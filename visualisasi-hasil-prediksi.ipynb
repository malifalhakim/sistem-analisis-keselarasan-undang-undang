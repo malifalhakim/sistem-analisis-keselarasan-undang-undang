{
 "cells": [
  {
   "cell_type": "markdown",
   "id": "ea14123d",
   "metadata": {
    "papermill": {
     "duration": 0.012575,
     "end_time": "2023-08-01T02:26:23.701759",
     "exception": false,
     "start_time": "2023-08-01T02:26:23.689184",
     "status": "completed"
    },
    "tags": []
   },
   "source": [
    "### Import Libraries"
   ]
  },
  {
   "cell_type": "code",
   "execution_count": 1,
   "id": "6d63b86f",
   "metadata": {
    "execution": {
     "iopub.execute_input": "2023-08-01T02:26:23.728487Z",
     "iopub.status.busy": "2023-08-01T02:26:23.727601Z",
     "iopub.status.idle": "2023-08-01T02:26:25.548604Z",
     "shell.execute_reply": "2023-08-01T02:26:25.547388Z"
    },
    "papermill": {
     "duration": 1.838108,
     "end_time": "2023-08-01T02:26:25.551900",
     "exception": false,
     "start_time": "2023-08-01T02:26:23.713792",
     "status": "completed"
    },
    "tags": []
   },
   "outputs": [
    {
     "name": "stderr",
     "output_type": "stream",
     "text": [
      "/opt/conda/lib/python3.10/site-packages/scipy/__init__.py:146: UserWarning: A NumPy version >=1.16.5 and <1.23.0 is required for this version of SciPy (detected version 1.23.5\n",
      "  warnings.warn(f\"A NumPy version >={np_minversion} and <{np_maxversion}\"\n"
     ]
    }
   ],
   "source": [
    "import pandas as pd\n",
    "import numpy as np \n",
    "import seaborn as sns\n",
    "import matplotlib.pyplot as plt\n",
    "from collections import Counter\n",
    "import warnings\n",
    "warnings.filterwarnings('ignore')\n",
    "import pandas as pd\n",
    "import plotly.graph_objects as go\n",
    "from plotly.subplots import make_subplots"
   ]
  },
  {
   "cell_type": "markdown",
   "id": "b8b984d3",
   "metadata": {
    "papermill": {
     "duration": 0.011948,
     "end_time": "2023-08-01T02:26:25.577370",
     "exception": false,
     "start_time": "2023-08-01T02:26:25.565422",
     "status": "completed"
    },
    "tags": []
   },
   "source": [
    "### Load Data"
   ]
  },
  {
   "cell_type": "code",
   "execution_count": 2,
   "id": "36b42713",
   "metadata": {
    "execution": {
     "iopub.execute_input": "2023-08-01T02:26:25.604465Z",
     "iopub.status.busy": "2023-08-01T02:26:25.603331Z",
     "iopub.status.idle": "2023-08-01T02:26:28.412440Z",
     "shell.execute_reply": "2023-08-01T02:26:28.411463Z"
    },
    "papermill": {
     "duration": 2.825817,
     "end_time": "2023-08-01T02:26:28.415011",
     "exception": false,
     "start_time": "2023-08-01T02:26:25.589194",
     "status": "completed"
    },
    "tags": []
   },
   "outputs": [
    {
     "data": {
      "text/html": [
       "<div>\n",
       "<style scoped>\n",
       "    .dataframe tbody tr th:only-of-type {\n",
       "        vertical-align: middle;\n",
       "    }\n",
       "\n",
       "    .dataframe tbody tr th {\n",
       "        vertical-align: top;\n",
       "    }\n",
       "\n",
       "    .dataframe thead th {\n",
       "        text-align: right;\n",
       "    }\n",
       "</style>\n",
       "<table border=\"1\" class=\"dataframe\">\n",
       "  <thead>\n",
       "    <tr style=\"text-align: right;\">\n",
       "      <th></th>\n",
       "      <th>NAMA_DOKUMEN</th>\n",
       "      <th>NO_PASAL</th>\n",
       "      <th>NO_AYAT</th>\n",
       "      <th>BUNYI_AYAT</th>\n",
       "      <th>NAMA_DOKUMEN_LAIN</th>\n",
       "      <th>NO_PASAL_LAIN</th>\n",
       "      <th>NO_AYAT_LAIN</th>\n",
       "      <th>BUNYI_AYAT_LAIN</th>\n",
       "      <th>TOPIC</th>\n",
       "      <th>label</th>\n",
       "      <th>score</th>\n",
       "    </tr>\n",
       "  </thead>\n",
       "  <tbody>\n",
       "    <tr>\n",
       "      <th>0</th>\n",
       "      <td>Undang-Undang_No.40_Tahun_2014</td>\n",
       "      <td>3</td>\n",
       "      <td>2</td>\n",
       "      <td>Perusahaan asuransi jiwa syariah hanya dapat m...</td>\n",
       "      <td>Undang-Undang_No.40_Tahun_2014</td>\n",
       "      <td>53</td>\n",
       "      <td>1</td>\n",
       "      <td>Perusahaan Asuransi dan Perusahaan Asuransi Sy...</td>\n",
       "      <td>35</td>\n",
       "      <td>Neutral</td>\n",
       "      <td>0.790448</td>\n",
       "    </tr>\n",
       "    <tr>\n",
       "      <th>1</th>\n",
       "      <td>Peraturan_Pemerintah_No.25_Tahun_2020</td>\n",
       "      <td>38</td>\n",
       "      <td>3</td>\n",
       "      <td>Ketentuan lebih lanjut mengenai persyaratan un...</td>\n",
       "      <td>Peraturan_Pemerintah_No.25_Tahun_2020</td>\n",
       "      <td>64</td>\n",
       "      <td>1</td>\n",
       "      <td>Dana Tapera yang bersumber dari dana Fasilitas...</td>\n",
       "      <td>2</td>\n",
       "      <td>Neutral</td>\n",
       "      <td>0.852398</td>\n",
       "    </tr>\n",
       "    <tr>\n",
       "      <th>2</th>\n",
       "      <td>PERMEN_DAGRI_52_2012</td>\n",
       "      <td>20</td>\n",
       "      <td>4</td>\n",
       "      <td>Penyertaan modal dan pemberian pinjaman sebaga...</td>\n",
       "      <td>Peraturan_Menteri_Keuangan_nomor_218_PMK.06_20...</td>\n",
       "      <td>23</td>\n",
       "      <td>7</td>\n",
       "      <td>Penilaian atas aspek operasional penerima inve...</td>\n",
       "      <td>24</td>\n",
       "      <td>Neutral</td>\n",
       "      <td>0.654027</td>\n",
       "    </tr>\n",
       "    <tr>\n",
       "      <th>3</th>\n",
       "      <td>Undang-Undang_No.9_Tahun_2018</td>\n",
       "      <td>19</td>\n",
       "      <td>2</td>\n",
       "      <td>Mitra Instansi Pengelola PNBP sebagaimana dima...</td>\n",
       "      <td>Undang-Undang_No.9_Tahun_2018</td>\n",
       "      <td>47</td>\n",
       "      <td>1</td>\n",
       "      <td>Terhadap Wajib Bayar yang menghitung sendiri k...</td>\n",
       "      <td>25</td>\n",
       "      <td>Neutral</td>\n",
       "      <td>0.649626</td>\n",
       "    </tr>\n",
       "    <tr>\n",
       "      <th>4</th>\n",
       "      <td>Undang-Undang_No.21_Tahun_2008</td>\n",
       "      <td>35</td>\n",
       "      <td>4</td>\n",
       "      <td>Bank Indonesia dapat menetapkan pengecualian t...</td>\n",
       "      <td>Undang-Undang_No.21_Tahun_2008</td>\n",
       "      <td>52</td>\n",
       "      <td>1</td>\n",
       "      <td>Bank Syariah dan UUS wajib menyampaikan segala...</td>\n",
       "      <td>13</td>\n",
       "      <td>Neutral</td>\n",
       "      <td>0.764714</td>\n",
       "    </tr>\n",
       "  </tbody>\n",
       "</table>\n",
       "</div>"
      ],
      "text/plain": [
       "                            NAMA_DOKUMEN  NO_PASAL  NO_AYAT  \\\n",
       "0         Undang-Undang_No.40_Tahun_2014         3        2   \n",
       "1  Peraturan_Pemerintah_No.25_Tahun_2020        38        3   \n",
       "2                   PERMEN_DAGRI_52_2012        20        4   \n",
       "3          Undang-Undang_No.9_Tahun_2018        19        2   \n",
       "4         Undang-Undang_No.21_Tahun_2008        35        4   \n",
       "\n",
       "                                          BUNYI_AYAT  \\\n",
       "0  Perusahaan asuransi jiwa syariah hanya dapat m...   \n",
       "1  Ketentuan lebih lanjut mengenai persyaratan un...   \n",
       "2  Penyertaan modal dan pemberian pinjaman sebaga...   \n",
       "3  Mitra Instansi Pengelola PNBP sebagaimana dima...   \n",
       "4  Bank Indonesia dapat menetapkan pengecualian t...   \n",
       "\n",
       "                                   NAMA_DOKUMEN_LAIN  NO_PASAL_LAIN  \\\n",
       "0                     Undang-Undang_No.40_Tahun_2014             53   \n",
       "1              Peraturan_Pemerintah_No.25_Tahun_2020             64   \n",
       "2  Peraturan_Menteri_Keuangan_nomor_218_PMK.06_20...             23   \n",
       "3                      Undang-Undang_No.9_Tahun_2018             47   \n",
       "4                     Undang-Undang_No.21_Tahun_2008             52   \n",
       "\n",
       "   NO_AYAT_LAIN                                    BUNYI_AYAT_LAIN  TOPIC  \\\n",
       "0             1  Perusahaan Asuransi dan Perusahaan Asuransi Sy...     35   \n",
       "1             1  Dana Tapera yang bersumber dari dana Fasilitas...      2   \n",
       "2             7  Penilaian atas aspek operasional penerima inve...     24   \n",
       "3             1  Terhadap Wajib Bayar yang menghitung sendiri k...     25   \n",
       "4             1  Bank Syariah dan UUS wajib menyampaikan segala...     13   \n",
       "\n",
       "     label     score  \n",
       "0  Neutral  0.790448  \n",
       "1  Neutral  0.852398  \n",
       "2  Neutral  0.654027  \n",
       "3  Neutral  0.649626  \n",
       "4  Neutral  0.764714  "
      ]
     },
     "execution_count": 2,
     "metadata": {},
     "output_type": "execute_result"
    }
   ],
   "source": [
    "# dataframe dengan 3 class label\n",
    "df = pd.read_csv('/kaggle/input/undang-undan-v3/final-dataset.csv')\n",
    "label = pd.read_csv('/kaggle/input/hasil-prediksi/label-2.csv')\n",
    "df_label = pd.concat([df,label],axis=1)\n",
    "df_label.head()"
   ]
  },
  {
   "cell_type": "code",
   "execution_count": 3,
   "id": "8293747d",
   "metadata": {
    "execution": {
     "iopub.execute_input": "2023-08-01T02:26:28.446872Z",
     "iopub.status.busy": "2023-08-01T02:26:28.445916Z",
     "iopub.status.idle": "2023-08-01T02:26:28.581181Z",
     "shell.execute_reply": "2023-08-01T02:26:28.579946Z"
    },
    "papermill": {
     "duration": 0.152816,
     "end_time": "2023-08-01T02:26:28.583868",
     "exception": false,
     "start_time": "2023-08-01T02:26:28.431052",
     "status": "completed"
    },
    "tags": []
   },
   "outputs": [
    {
     "data": {
      "text/html": [
       "<div>\n",
       "<style scoped>\n",
       "    .dataframe tbody tr th:only-of-type {\n",
       "        vertical-align: middle;\n",
       "    }\n",
       "\n",
       "    .dataframe tbody tr th {\n",
       "        vertical-align: top;\n",
       "    }\n",
       "\n",
       "    .dataframe thead th {\n",
       "        text-align: right;\n",
       "    }\n",
       "</style>\n",
       "<table border=\"1\" class=\"dataframe\">\n",
       "  <thead>\n",
       "    <tr style=\"text-align: right;\">\n",
       "      <th></th>\n",
       "      <th>NAMA_DOKUMEN</th>\n",
       "      <th>NO_PASAL</th>\n",
       "      <th>NO_AYAT</th>\n",
       "      <th>BUNYI_AYAT</th>\n",
       "      <th>NAMA_DOKUMEN_LAIN</th>\n",
       "      <th>NO_PASAL_LAIN</th>\n",
       "      <th>NO_AYAT_LAIN</th>\n",
       "      <th>BUNYI_AYAT_LAIN</th>\n",
       "      <th>TOPIC</th>\n",
       "      <th>label</th>\n",
       "      <th>score</th>\n",
       "    </tr>\n",
       "  </thead>\n",
       "  <tbody>\n",
       "    <tr>\n",
       "      <th>0</th>\n",
       "      <td>Undang-Undang_No.40_Tahun_2014</td>\n",
       "      <td>3</td>\n",
       "      <td>2</td>\n",
       "      <td>Perusahaan asuransi jiwa syariah hanya dapat m...</td>\n",
       "      <td>Undang-Undang_No.40_Tahun_2014</td>\n",
       "      <td>53</td>\n",
       "      <td>1</td>\n",
       "      <td>Perusahaan Asuransi dan Perusahaan Asuransi Sy...</td>\n",
       "      <td>35</td>\n",
       "      <td>Selaras</td>\n",
       "      <td>0.790448</td>\n",
       "    </tr>\n",
       "    <tr>\n",
       "      <th>1</th>\n",
       "      <td>Peraturan_Pemerintah_No.25_Tahun_2020</td>\n",
       "      <td>38</td>\n",
       "      <td>3</td>\n",
       "      <td>Ketentuan lebih lanjut mengenai persyaratan un...</td>\n",
       "      <td>Peraturan_Pemerintah_No.25_Tahun_2020</td>\n",
       "      <td>64</td>\n",
       "      <td>1</td>\n",
       "      <td>Dana Tapera yang bersumber dari dana Fasilitas...</td>\n",
       "      <td>2</td>\n",
       "      <td>Selaras</td>\n",
       "      <td>0.852398</td>\n",
       "    </tr>\n",
       "    <tr>\n",
       "      <th>2</th>\n",
       "      <td>PERMEN_DAGRI_52_2012</td>\n",
       "      <td>20</td>\n",
       "      <td>4</td>\n",
       "      <td>Penyertaan modal dan pemberian pinjaman sebaga...</td>\n",
       "      <td>Peraturan_Menteri_Keuangan_nomor_218_PMK.06_20...</td>\n",
       "      <td>23</td>\n",
       "      <td>7</td>\n",
       "      <td>Penilaian atas aspek operasional penerima inve...</td>\n",
       "      <td>24</td>\n",
       "      <td>Selaras</td>\n",
       "      <td>0.654027</td>\n",
       "    </tr>\n",
       "    <tr>\n",
       "      <th>3</th>\n",
       "      <td>Undang-Undang_No.9_Tahun_2018</td>\n",
       "      <td>19</td>\n",
       "      <td>2</td>\n",
       "      <td>Mitra Instansi Pengelola PNBP sebagaimana dima...</td>\n",
       "      <td>Undang-Undang_No.9_Tahun_2018</td>\n",
       "      <td>47</td>\n",
       "      <td>1</td>\n",
       "      <td>Terhadap Wajib Bayar yang menghitung sendiri k...</td>\n",
       "      <td>25</td>\n",
       "      <td>Selaras</td>\n",
       "      <td>0.649626</td>\n",
       "    </tr>\n",
       "    <tr>\n",
       "      <th>4</th>\n",
       "      <td>Undang-Undang_No.21_Tahun_2008</td>\n",
       "      <td>35</td>\n",
       "      <td>4</td>\n",
       "      <td>Bank Indonesia dapat menetapkan pengecualian t...</td>\n",
       "      <td>Undang-Undang_No.21_Tahun_2008</td>\n",
       "      <td>52</td>\n",
       "      <td>1</td>\n",
       "      <td>Bank Syariah dan UUS wajib menyampaikan segala...</td>\n",
       "      <td>13</td>\n",
       "      <td>Selaras</td>\n",
       "      <td>0.764714</td>\n",
       "    </tr>\n",
       "  </tbody>\n",
       "</table>\n",
       "</div>"
      ],
      "text/plain": [
       "                            NAMA_DOKUMEN  NO_PASAL  NO_AYAT  \\\n",
       "0         Undang-Undang_No.40_Tahun_2014         3        2   \n",
       "1  Peraturan_Pemerintah_No.25_Tahun_2020        38        3   \n",
       "2                   PERMEN_DAGRI_52_2012        20        4   \n",
       "3          Undang-Undang_No.9_Tahun_2018        19        2   \n",
       "4         Undang-Undang_No.21_Tahun_2008        35        4   \n",
       "\n",
       "                                          BUNYI_AYAT  \\\n",
       "0  Perusahaan asuransi jiwa syariah hanya dapat m...   \n",
       "1  Ketentuan lebih lanjut mengenai persyaratan un...   \n",
       "2  Penyertaan modal dan pemberian pinjaman sebaga...   \n",
       "3  Mitra Instansi Pengelola PNBP sebagaimana dima...   \n",
       "4  Bank Indonesia dapat menetapkan pengecualian t...   \n",
       "\n",
       "                                   NAMA_DOKUMEN_LAIN  NO_PASAL_LAIN  \\\n",
       "0                     Undang-Undang_No.40_Tahun_2014             53   \n",
       "1              Peraturan_Pemerintah_No.25_Tahun_2020             64   \n",
       "2  Peraturan_Menteri_Keuangan_nomor_218_PMK.06_20...             23   \n",
       "3                      Undang-Undang_No.9_Tahun_2018             47   \n",
       "4                     Undang-Undang_No.21_Tahun_2008             52   \n",
       "\n",
       "   NO_AYAT_LAIN                                    BUNYI_AYAT_LAIN  TOPIC  \\\n",
       "0             1  Perusahaan Asuransi dan Perusahaan Asuransi Sy...     35   \n",
       "1             1  Dana Tapera yang bersumber dari dana Fasilitas...      2   \n",
       "2             7  Penilaian atas aspek operasional penerima inve...     24   \n",
       "3             1  Terhadap Wajib Bayar yang menghitung sendiri k...     25   \n",
       "4             1  Bank Syariah dan UUS wajib menyampaikan segala...     13   \n",
       "\n",
       "     label     score  \n",
       "0  Selaras  0.790448  \n",
       "1  Selaras  0.852398  \n",
       "2  Selaras  0.654027  \n",
       "3  Selaras  0.649626  \n",
       "4  Selaras  0.764714  "
      ]
     },
     "execution_count": 3,
     "metadata": {},
     "output_type": "execute_result"
    }
   ],
   "source": [
    "# dataframe with 2 class label\n",
    "df_label_2 = df_label.copy()\n",
    "df_label_2['label'] = df_label_2['label'].replace({'Entailment':'Selaras','Neutral':'Selaras','Contradiction':'Tidak Selaras'})\n",
    "df_label_2.head()"
   ]
  },
  {
   "cell_type": "markdown",
   "id": "fc0b671e",
   "metadata": {
    "papermill": {
     "duration": 0.012562,
     "end_time": "2023-08-01T02:26:28.610003",
     "exception": false,
     "start_time": "2023-08-01T02:26:28.597441",
     "status": "completed"
    },
    "tags": []
   },
   "source": [
    "### Frequency"
   ]
  },
  {
   "cell_type": "code",
   "execution_count": 4,
   "id": "498a21eb",
   "metadata": {
    "execution": {
     "iopub.execute_input": "2023-08-01T02:26:28.638124Z",
     "iopub.status.busy": "2023-08-01T02:26:28.637736Z",
     "iopub.status.idle": "2023-08-01T02:26:29.222402Z",
     "shell.execute_reply": "2023-08-01T02:26:29.221077Z"
    },
    "papermill": {
     "duration": 0.60234,
     "end_time": "2023-08-01T02:26:29.225636",
     "exception": false,
     "start_time": "2023-08-01T02:26:28.623296",
     "status": "completed"
    },
    "tags": []
   },
   "outputs": [
    {
     "data": {
      "image/png": "[encoded data removed]",
      "text/plain": [
       "<Figure size 1200x600 with 1 Axes>"
      ]
     },
     "metadata": {},
     "output_type": "display_data"
    }
   ],
   "source": [
    "# Visualisasi dengan countplot menggunakan Seaborn\n",
    "plt.figure(figsize=(12, 6))\n",
    "ax = sns.countplot(data=df_label, x='label')\n",
    "plt.title('Grafik Frekuensi Hubungan Ayat')\n",
    "plt.xlabel('Label')\n",
    "plt.ylabel('Frekuensi')\n",
    "plt.xticks(rotation=45)\n",
    "\n",
    "# Menambahkan jumlah frekuensi di atas setiap bar\n",
    "for p in ax.patches:\n",
    "    ax.annotate(f'{int(p.get_height())}', (p.get_x() + p.get_width() / 2., p.get_height()),\n",
    "                ha='center', va='bottom', fontsize=8, color='black', xytext=(0, 5),\n",
    "                textcoords='offset points')\n",
    "\n",
    "plt.show()"
   ]
  },
  {
   "cell_type": "code",
   "execution_count": 5,
   "id": "564d0634",
   "metadata": {
    "execution": {
     "iopub.execute_input": "2023-08-01T02:26:29.257657Z",
     "iopub.status.busy": "2023-08-01T02:26:29.256816Z",
     "iopub.status.idle": "2023-08-01T02:26:29.712915Z",
     "shell.execute_reply": "2023-08-01T02:26:29.711739Z"
    },
    "papermill": {
     "duration": 0.476204,
     "end_time": "2023-08-01T02:26:29.715967",
     "exception": false,
     "start_time": "2023-08-01T02:26:29.239763",
     "status": "completed"
    },
    "tags": []
   },
   "outputs": [
    {
     "data": {
      "image/png": "[encoded data removed]",
      "text/plain": [
       "<Figure size 900x500 with 1 Axes>"
      ]
     },
     "metadata": {},
     "output_type": "display_data"
    }
   ],
   "source": [
    "# Visualisasi dengan countplot menggunakan Seaborn\n",
    "plt.figure(figsize=(9, 5))\n",
    "ax = sns.countplot(data=df_label_2, x='label')\n",
    "plt.title('Grafik Frekuensi Hubungan Ayat')\n",
    "plt.xlabel('Label')\n",
    "plt.ylabel('Frekuensi')\n",
    "plt.xticks(rotation=45)\n",
    "\n",
    "# Menambahkan jumlah frekuensi di atas setiap bar\n",
    "for p in ax.patches:\n",
    "    ax.annotate(f'{int(p.get_height())}', (p.get_x() + p.get_width() / 2., p.get_height()),\n",
    "                ha='center', va='bottom', fontsize=8, color='black', xytext=(0, 5),\n",
    "                textcoords='offset points')\n",
    "\n",
    "plt.show()"
   ]
  },
  {
   "cell_type": "markdown",
   "id": "e0f7aa86",
   "metadata": {
    "papermill": {
     "duration": 0.01392,
     "end_time": "2023-08-01T02:26:29.744073",
     "exception": false,
     "start_time": "2023-08-01T02:26:29.730153",
     "status": "completed"
    },
    "tags": []
   },
   "source": [
    "### Nama Dokumen"
   ]
  },
  {
   "cell_type": "code",
   "execution_count": 6,
   "id": "3f3e4be6",
   "metadata": {
    "execution": {
     "iopub.execute_input": "2023-08-01T02:26:29.775873Z",
     "iopub.status.busy": "2023-08-01T02:26:29.775155Z",
     "iopub.status.idle": "2023-08-01T02:26:29.850874Z",
     "shell.execute_reply": "2023-08-01T02:26:29.849533Z"
    },
    "papermill": {
     "duration": 0.095254,
     "end_time": "2023-08-01T02:26:29.853959",
     "exception": false,
     "start_time": "2023-08-01T02:26:29.758705",
     "status": "completed"
    },
    "tags": []
   },
   "outputs": [
    {
     "data": {
      "text/html": [
       "<div>\n",
       "<style scoped>\n",
       "    .dataframe tbody tr th:only-of-type {\n",
       "        vertical-align: middle;\n",
       "    }\n",
       "\n",
       "    .dataframe tbody tr th {\n",
       "        vertical-align: top;\n",
       "    }\n",
       "\n",
       "    .dataframe thead th {\n",
       "        text-align: right;\n",
       "    }\n",
       "</style>\n",
       "<table border=\"1\" class=\"dataframe\">\n",
       "  <thead>\n",
       "    <tr style=\"text-align: right;\">\n",
       "      <th></th>\n",
       "      <th>NAMA_DOKUMEN</th>\n",
       "      <th>NAMA_DOKUMEN_LAIN</th>\n",
       "      <th>label</th>\n",
       "    </tr>\n",
       "  </thead>\n",
       "  <tbody>\n",
       "    <tr>\n",
       "      <th>12</th>\n",
       "      <td>Undang-Undang_No.21_Tahun_2008</td>\n",
       "      <td>1_PMK.05_2021</td>\n",
       "      <td>Tidak Selaras</td>\n",
       "    </tr>\n",
       "    <tr>\n",
       "      <th>36</th>\n",
       "      <td>UU411999</td>\n",
       "      <td>2022perpu002</td>\n",
       "      <td>Tidak Selaras</td>\n",
       "    </tr>\n",
       "    <tr>\n",
       "      <th>38</th>\n",
       "      <td>Undang-Undang_No.40_Tahun_2014</td>\n",
       "      <td>2022perpu002</td>\n",
       "      <td>Tidak Selaras</td>\n",
       "    </tr>\n",
       "    <tr>\n",
       "      <th>85</th>\n",
       "      <td>UU411999</td>\n",
       "      <td>UU411999</td>\n",
       "      <td>Tidak Selaras</td>\n",
       "    </tr>\n",
       "    <tr>\n",
       "      <th>122</th>\n",
       "      <td>Undang-Undang_No.21_Tahun_2008</td>\n",
       "      <td>2022perpu002</td>\n",
       "      <td>Tidak Selaras</td>\n",
       "    </tr>\n",
       "  </tbody>\n",
       "</table>\n",
       "</div>"
      ],
      "text/plain": [
       "                       NAMA_DOKUMEN NAMA_DOKUMEN_LAIN          label\n",
       "12   Undang-Undang_No.21_Tahun_2008     1_PMK.05_2021  Tidak Selaras\n",
       "36                         UU411999      2022perpu002  Tidak Selaras\n",
       "38   Undang-Undang_No.40_Tahun_2014      2022perpu002  Tidak Selaras\n",
       "85                         UU411999          UU411999  Tidak Selaras\n",
       "122  Undang-Undang_No.21_Tahun_2008      2022perpu002  Tidak Selaras"
      ]
     },
     "execution_count": 6,
     "metadata": {},
     "output_type": "execute_result"
    }
   ],
   "source": [
    "# Filter dataframe\n",
    "tidak_selaras_df = df_label_2[(df_label_2['label'] == 'Tidak Selaras')]\n",
    "tidak_selaras_df_dokumen = tidak_selaras_df[['NAMA_DOKUMEN','NAMA_DOKUMEN_LAIN','label']]\n",
    "tidak_selaras_df_dokumen.head()"
   ]
  },
  {
   "cell_type": "markdown",
   "id": "b181611a",
   "metadata": {
    "papermill": {
     "duration": 0.014384,
     "end_time": "2023-08-01T02:26:29.883720",
     "exception": false,
     "start_time": "2023-08-01T02:26:29.869336",
     "status": "completed"
    },
    "tags": []
   },
   "source": [
    "##### Grafik 1"
   ]
  },
  {
   "cell_type": "code",
   "execution_count": 7,
   "id": "ee9fa4b9",
   "metadata": {
    "execution": {
     "iopub.execute_input": "2023-08-01T02:26:29.916814Z",
     "iopub.status.busy": "2023-08-01T02:26:29.916309Z",
     "iopub.status.idle": "2023-08-01T02:26:30.179075Z",
     "shell.execute_reply": "2023-08-01T02:26:30.177838Z"
    },
    "papermill": {
     "duration": 0.283582,
     "end_time": "2023-08-01T02:26:30.182469",
     "exception": false,
     "start_time": "2023-08-01T02:26:29.898887",
     "status": "completed"
    },
    "tags": []
   },
   "outputs": [],
   "source": [
    "# Prapemrosesan untuk memastikan pasangan selalu berada dalam urutan yang sama\n",
    "tidak_selaras_df_dokumen['Sorted_Docs'] = tidak_selaras_df_dokumen.apply(lambda row: sorted([row['NAMA_DOKUMEN'], row['NAMA_DOKUMEN_LAIN']]), axis=1)\n",
    "\n",
    "# Hitung jumlah pasangan yang sama\n",
    "pair_counts = tidak_selaras_df_dokumen['Sorted_Docs'].value_counts()"
   ]
  },
  {
   "cell_type": "code",
   "execution_count": 8,
   "id": "15e1350b",
   "metadata": {
    "execution": {
     "iopub.execute_input": "2023-08-01T02:26:30.214307Z",
     "iopub.status.busy": "2023-08-01T02:26:30.213822Z",
     "iopub.status.idle": "2023-08-01T02:26:30.231830Z",
     "shell.execute_reply": "2023-08-01T02:26:30.230424Z"
    },
    "papermill": {
     "duration": 0.037174,
     "end_time": "2023-08-01T02:26:30.234603",
     "exception": false,
     "start_time": "2023-08-01T02:26:30.197429",
     "status": "completed"
    },
    "tags": []
   },
   "outputs": [
    {
     "data": {
      "text/html": [
       "<div>\n",
       "<style scoped>\n",
       "    .dataframe tbody tr th:only-of-type {\n",
       "        vertical-align: middle;\n",
       "    }\n",
       "\n",
       "    .dataframe tbody tr th {\n",
       "        vertical-align: top;\n",
       "    }\n",
       "\n",
       "    .dataframe thead th {\n",
       "        text-align: right;\n",
       "    }\n",
       "</style>\n",
       "<table border=\"1\" class=\"dataframe\">\n",
       "  <thead>\n",
       "    <tr style=\"text-align: right;\">\n",
       "      <th></th>\n",
       "      <th>Pasangan Dokumen</th>\n",
       "      <th>Jumlah</th>\n",
       "    </tr>\n",
       "  </thead>\n",
       "  <tbody>\n",
       "    <tr>\n",
       "      <th>0</th>\n",
       "      <td>[2022perpu002, 2022perpu002]</td>\n",
       "      <td>2961</td>\n",
       "    </tr>\n",
       "    <tr>\n",
       "      <th>1</th>\n",
       "      <td>[2022perpu002, Undang-Undang_No.40_Tahun_2014]</td>\n",
       "      <td>370</td>\n",
       "    </tr>\n",
       "    <tr>\n",
       "      <th>2</th>\n",
       "      <td>[2022perpu002, UU Nomor 4 Tahun 2009]</td>\n",
       "      <td>280</td>\n",
       "    </tr>\n",
       "    <tr>\n",
       "      <th>3</th>\n",
       "      <td>[2022perpu002, Undang-Undang_No.11_Tahun_2016]</td>\n",
       "      <td>207</td>\n",
       "    </tr>\n",
       "    <tr>\n",
       "      <th>4</th>\n",
       "      <td>[Undang-Undang_No.24_Tahun_2004, Undang-Undang...</td>\n",
       "      <td>206</td>\n",
       "    </tr>\n",
       "  </tbody>\n",
       "</table>\n",
       "</div>"
      ],
      "text/plain": [
       "                                    Pasangan Dokumen  Jumlah\n",
       "0                       [2022perpu002, 2022perpu002]    2961\n",
       "1     [2022perpu002, Undang-Undang_No.40_Tahun_2014]     370\n",
       "2              [2022perpu002, UU Nomor 4 Tahun 2009]     280\n",
       "3     [2022perpu002, Undang-Undang_No.11_Tahun_2016]     207\n",
       "4  [Undang-Undang_No.24_Tahun_2004, Undang-Undang...     206"
      ]
     },
     "execution_count": 8,
     "metadata": {},
     "output_type": "execute_result"
    }
   ],
   "source": [
    "# Convert ke dataframe\n",
    "pair_doc = pair_counts.to_frame().reset_index().rename(columns={'index':'Pasangan Dokumen','Sorted_Docs':'Jumlah'})\n",
    "pair_doc.head()"
   ]
  },
  {
   "cell_type": "code",
   "execution_count": 9,
   "id": "af6f3baf",
   "metadata": {
    "execution": {
     "iopub.execute_input": "2023-08-01T02:26:30.266609Z",
     "iopub.status.busy": "2023-08-01T02:26:30.266124Z",
     "iopub.status.idle": "2023-08-01T02:26:30.273880Z",
     "shell.execute_reply": "2023-08-01T02:26:30.272524Z"
    },
    "papermill": {
     "duration": 0.027046,
     "end_time": "2023-08-01T02:26:30.276546",
     "exception": false,
     "start_time": "2023-08-01T02:26:30.249500",
     "status": "completed"
    },
    "tags": []
   },
   "outputs": [],
   "source": [
    "# Convert list to String\n",
    "pair_doc['Pasangan Dokumen'] = pair_doc['Pasangan Dokumen'].apply(lambda x: \"&\".join(x))"
   ]
  },
  {
   "cell_type": "code",
   "execution_count": 10,
   "id": "e9dc2e3b",
   "metadata": {
    "execution": {
     "iopub.execute_input": "2023-08-01T02:26:30.309405Z",
     "iopub.status.busy": "2023-08-01T02:26:30.308370Z",
     "iopub.status.idle": "2023-08-01T02:26:30.809692Z",
     "shell.execute_reply": "2023-08-01T02:26:30.808677Z"
    },
    "papermill": {
     "duration": 0.520595,
     "end_time": "2023-08-01T02:26:30.812202",
     "exception": false,
     "start_time": "2023-08-01T02:26:30.291607",
     "status": "completed"
    },
    "tags": []
   },
   "outputs": [
    {
     "data": {
      "image/png": "[encoded data removed]",
      "text/plain": [
       "<Figure size 2000x1000 with 1 Axes>"
      ]
     },
     "metadata": {},
     "output_type": "display_data"
    }
   ],
   "source": [
    "# Visualisasi dengan countplot menggunakan Seaborn\n",
    "plt.figure(figsize=(20, 10))\n",
    "data = pair_doc[pair_doc.index < 10]\n",
    "ax = sns.barplot(data=data, y='Pasangan Dokumen', x='Jumlah')\n",
    "plt.title('Grafik Jumlah Ayat Tidak Selaras')\n",
    "plt.xlabel('Jumlah')\n",
    "plt.ylabel('Pasangan Dokumen')\n",
    "plt.xticks(rotation=45)\n",
    "\n",
    "\n",
    "plt.show()"
   ]
  },
  {
   "cell_type": "markdown",
   "id": "d9e79bd0",
   "metadata": {
    "papermill": {
     "duration": 0.015477,
     "end_time": "2023-08-01T02:26:30.844081",
     "exception": false,
     "start_time": "2023-08-01T02:26:30.828604",
     "status": "completed"
    },
    "tags": []
   },
   "source": [
    "##### Grafik 2"
   ]
  },
  {
   "cell_type": "code",
   "execution_count": 11,
   "id": "a34d2ca8",
   "metadata": {
    "execution": {
     "iopub.execute_input": "2023-08-01T02:26:30.879051Z",
     "iopub.status.busy": "2023-08-01T02:26:30.878055Z",
     "iopub.status.idle": "2023-08-01T02:26:30.892912Z",
     "shell.execute_reply": "2023-08-01T02:26:30.891985Z"
    },
    "papermill": {
     "duration": 0.035492,
     "end_time": "2023-08-01T02:26:30.895495",
     "exception": false,
     "start_time": "2023-08-01T02:26:30.860003",
     "status": "completed"
    },
    "tags": []
   },
   "outputs": [
    {
     "data": {
      "text/html": [
       "<div>\n",
       "<style scoped>\n",
       "    .dataframe tbody tr th:only-of-type {\n",
       "        vertical-align: middle;\n",
       "    }\n",
       "\n",
       "    .dataframe tbody tr th {\n",
       "        vertical-align: top;\n",
       "    }\n",
       "\n",
       "    .dataframe thead th {\n",
       "        text-align: right;\n",
       "    }\n",
       "</style>\n",
       "<table border=\"1\" class=\"dataframe\">\n",
       "  <thead>\n",
       "    <tr style=\"text-align: right;\">\n",
       "      <th></th>\n",
       "      <th>NAMA_DOKUMEN</th>\n",
       "      <th>NAMA_DOKUMEN_LAIN</th>\n",
       "      <th>label</th>\n",
       "    </tr>\n",
       "  </thead>\n",
       "  <tbody>\n",
       "    <tr>\n",
       "      <th>12</th>\n",
       "      <td>Undang-Undang_No.21_Tahun_2008</td>\n",
       "      <td>1_PMK.05_2021</td>\n",
       "      <td>Tidak Selaras</td>\n",
       "    </tr>\n",
       "    <tr>\n",
       "      <th>36</th>\n",
       "      <td>UU411999</td>\n",
       "      <td>2022perpu002</td>\n",
       "      <td>Tidak Selaras</td>\n",
       "    </tr>\n",
       "    <tr>\n",
       "      <th>38</th>\n",
       "      <td>Undang-Undang_No.40_Tahun_2014</td>\n",
       "      <td>2022perpu002</td>\n",
       "      <td>Tidak Selaras</td>\n",
       "    </tr>\n",
       "    <tr>\n",
       "      <th>85</th>\n",
       "      <td>UU411999</td>\n",
       "      <td>UU411999</td>\n",
       "      <td>Tidak Selaras</td>\n",
       "    </tr>\n",
       "    <tr>\n",
       "      <th>122</th>\n",
       "      <td>Undang-Undang_No.21_Tahun_2008</td>\n",
       "      <td>2022perpu002</td>\n",
       "      <td>Tidak Selaras</td>\n",
       "    </tr>\n",
       "  </tbody>\n",
       "</table>\n",
       "</div>"
      ],
      "text/plain": [
       "                       NAMA_DOKUMEN NAMA_DOKUMEN_LAIN          label\n",
       "12   Undang-Undang_No.21_Tahun_2008     1_PMK.05_2021  Tidak Selaras\n",
       "36                         UU411999      2022perpu002  Tidak Selaras\n",
       "38   Undang-Undang_No.40_Tahun_2014      2022perpu002  Tidak Selaras\n",
       "85                         UU411999          UU411999  Tidak Selaras\n",
       "122  Undang-Undang_No.21_Tahun_2008      2022perpu002  Tidak Selaras"
      ]
     },
     "execution_count": 11,
     "metadata": {},
     "output_type": "execute_result"
    }
   ],
   "source": [
    "# Drop kolom \n",
    "tidak_selaras_df_dokumen.drop(['Sorted_Docs'],axis=1,inplace=True)\n",
    "tidak_selaras_df_dokumen.head()"
   ]
  },
  {
   "cell_type": "code",
   "execution_count": 12,
   "id": "55878ac0",
   "metadata": {
    "execution": {
     "iopub.execute_input": "2023-08-01T02:26:30.932329Z",
     "iopub.status.busy": "2023-08-01T02:26:30.931868Z",
     "iopub.status.idle": "2023-08-01T02:26:30.953239Z",
     "shell.execute_reply": "2023-08-01T02:26:30.951488Z"
    },
    "papermill": {
     "duration": 0.043119,
     "end_time": "2023-08-01T02:26:30.956291",
     "exception": false,
     "start_time": "2023-08-01T02:26:30.913172",
     "status": "completed"
    },
    "tags": []
   },
   "outputs": [
    {
     "data": {
      "text/html": [
       "<div>\n",
       "<style scoped>\n",
       "    .dataframe tbody tr th:only-of-type {\n",
       "        vertical-align: middle;\n",
       "    }\n",
       "\n",
       "    .dataframe tbody tr th {\n",
       "        vertical-align: top;\n",
       "    }\n",
       "\n",
       "    .dataframe thead th {\n",
       "        text-align: right;\n",
       "    }\n",
       "</style>\n",
       "<table border=\"1\" class=\"dataframe\">\n",
       "  <thead>\n",
       "    <tr style=\"text-align: right;\">\n",
       "      <th></th>\n",
       "      <th>NAMA_DOKUMEN</th>\n",
       "      <th>NAMA_DOKUMEN_LAIN</th>\n",
       "      <th>label</th>\n",
       "      <th>IsSameFile</th>\n",
       "    </tr>\n",
       "  </thead>\n",
       "  <tbody>\n",
       "    <tr>\n",
       "      <th>12</th>\n",
       "      <td>Undang-Undang_No.21_Tahun_2008</td>\n",
       "      <td>1_PMK.05_2021</td>\n",
       "      <td>Tidak Selaras</td>\n",
       "      <td>False</td>\n",
       "    </tr>\n",
       "    <tr>\n",
       "      <th>36</th>\n",
       "      <td>UU411999</td>\n",
       "      <td>2022perpu002</td>\n",
       "      <td>Tidak Selaras</td>\n",
       "      <td>False</td>\n",
       "    </tr>\n",
       "    <tr>\n",
       "      <th>38</th>\n",
       "      <td>Undang-Undang_No.40_Tahun_2014</td>\n",
       "      <td>2022perpu002</td>\n",
       "      <td>Tidak Selaras</td>\n",
       "      <td>False</td>\n",
       "    </tr>\n",
       "    <tr>\n",
       "      <th>85</th>\n",
       "      <td>UU411999</td>\n",
       "      <td>UU411999</td>\n",
       "      <td>Tidak Selaras</td>\n",
       "      <td>True</td>\n",
       "    </tr>\n",
       "    <tr>\n",
       "      <th>122</th>\n",
       "      <td>Undang-Undang_No.21_Tahun_2008</td>\n",
       "      <td>2022perpu002</td>\n",
       "      <td>Tidak Selaras</td>\n",
       "      <td>False</td>\n",
       "    </tr>\n",
       "    <tr>\n",
       "      <th>...</th>\n",
       "      <td>...</td>\n",
       "      <td>...</td>\n",
       "      <td>...</td>\n",
       "      <td>...</td>\n",
       "    </tr>\n",
       "    <tr>\n",
       "      <th>178692</th>\n",
       "      <td>Salinan UU Nomor 9 Tahun 2020</td>\n",
       "      <td>PERMEN_KEU_53PMK052020_2020</td>\n",
       "      <td>Tidak Selaras</td>\n",
       "      <td>False</td>\n",
       "    </tr>\n",
       "    <tr>\n",
       "      <th>178702</th>\n",
       "      <td>2022perpu002</td>\n",
       "      <td>Peraturan_Pemerintah_No.28_Tahun_1984</td>\n",
       "      <td>Tidak Selaras</td>\n",
       "      <td>False</td>\n",
       "    </tr>\n",
       "    <tr>\n",
       "      <th>178767</th>\n",
       "      <td>2022perpu002</td>\n",
       "      <td>2022perpu002</td>\n",
       "      <td>Tidak Selaras</td>\n",
       "      <td>True</td>\n",
       "    </tr>\n",
       "    <tr>\n",
       "      <th>178799</th>\n",
       "      <td>Peraturan_Pemerintah_No.8_Tahun_2007</td>\n",
       "      <td>Peraturan Pemerintah No 1 Tahun 2008</td>\n",
       "      <td>Tidak Selaras</td>\n",
       "      <td>False</td>\n",
       "    </tr>\n",
       "    <tr>\n",
       "      <th>178812</th>\n",
       "      <td>2022perpu002</td>\n",
       "      <td>2022perpu002</td>\n",
       "      <td>Tidak Selaras</td>\n",
       "      <td>True</td>\n",
       "    </tr>\n",
       "  </tbody>\n",
       "</table>\n",
       "<p>8945 rows × 4 columns</p>\n",
       "</div>"
      ],
      "text/plain": [
       "                                NAMA_DOKUMEN  \\\n",
       "12            Undang-Undang_No.21_Tahun_2008   \n",
       "36                                  UU411999   \n",
       "38            Undang-Undang_No.40_Tahun_2014   \n",
       "85                                  UU411999   \n",
       "122           Undang-Undang_No.21_Tahun_2008   \n",
       "...                                      ...   \n",
       "178692         Salinan UU Nomor 9 Tahun 2020   \n",
       "178702                          2022perpu002   \n",
       "178767                          2022perpu002   \n",
       "178799  Peraturan_Pemerintah_No.8_Tahun_2007   \n",
       "178812                          2022perpu002   \n",
       "\n",
       "                            NAMA_DOKUMEN_LAIN          label  IsSameFile  \n",
       "12                              1_PMK.05_2021  Tidak Selaras       False  \n",
       "36                               2022perpu002  Tidak Selaras       False  \n",
       "38                               2022perpu002  Tidak Selaras       False  \n",
       "85                                   UU411999  Tidak Selaras        True  \n",
       "122                              2022perpu002  Tidak Selaras       False  \n",
       "...                                       ...            ...         ...  \n",
       "178692            PERMEN_KEU_53PMK052020_2020  Tidak Selaras       False  \n",
       "178702  Peraturan_Pemerintah_No.28_Tahun_1984  Tidak Selaras       False  \n",
       "178767                           2022perpu002  Tidak Selaras        True  \n",
       "178799   Peraturan Pemerintah No 1 Tahun 2008  Tidak Selaras       False  \n",
       "178812                           2022perpu002  Tidak Selaras        True  \n",
       "\n",
       "[8945 rows x 4 columns]"
      ]
     },
     "execution_count": 12,
     "metadata": {},
     "output_type": "execute_result"
    }
   ],
   "source": [
    "# Cek apakah dokumen sama \n",
    "tidak_selaras_dokumen_2 = tidak_selaras_df_dokumen.copy()\n",
    "tidak_selaras_dokumen_2['IsSameFile'] = (tidak_selaras_dokumen_2['NAMA_DOKUMEN'] == tidak_selaras_dokumen_2['NAMA_DOKUMEN_LAIN'])\n",
    "tidak_selaras_dokumen_2"
   ]
  },
  {
   "cell_type": "code",
   "execution_count": 13,
   "id": "1ccea686",
   "metadata": {
    "execution": {
     "iopub.execute_input": "2023-08-01T02:26:30.993227Z",
     "iopub.status.busy": "2023-08-01T02:26:30.992808Z",
     "iopub.status.idle": "2023-08-01T02:26:31.011642Z",
     "shell.execute_reply": "2023-08-01T02:26:31.010112Z"
    },
    "papermill": {
     "duration": 0.041106,
     "end_time": "2023-08-01T02:26:31.014595",
     "exception": false,
     "start_time": "2023-08-01T02:26:30.973489",
     "status": "completed"
    },
    "tags": []
   },
   "outputs": [
    {
     "data": {
      "text/html": [
       "<div>\n",
       "<style scoped>\n",
       "    .dataframe tbody tr th:only-of-type {\n",
       "        vertical-align: middle;\n",
       "    }\n",
       "\n",
       "    .dataframe tbody tr th {\n",
       "        vertical-align: top;\n",
       "    }\n",
       "\n",
       "    .dataframe thead th {\n",
       "        text-align: right;\n",
       "    }\n",
       "</style>\n",
       "<table border=\"1\" class=\"dataframe\">\n",
       "  <thead>\n",
       "    <tr style=\"text-align: right;\">\n",
       "      <th></th>\n",
       "      <th>NAMA_DOKUMEN</th>\n",
       "      <th>NAMA_DOKUMEN_LAIN</th>\n",
       "      <th>label</th>\n",
       "      <th>IsSameFile</th>\n",
       "    </tr>\n",
       "  </thead>\n",
       "  <tbody>\n",
       "    <tr>\n",
       "      <th>12</th>\n",
       "      <td>Undang-Undang_No.21_Tahun_2008</td>\n",
       "      <td>1_PMK.05_2021</td>\n",
       "      <td>Tidak Selaras</td>\n",
       "      <td>Berbeda File</td>\n",
       "    </tr>\n",
       "    <tr>\n",
       "      <th>36</th>\n",
       "      <td>UU411999</td>\n",
       "      <td>2022perpu002</td>\n",
       "      <td>Tidak Selaras</td>\n",
       "      <td>Berbeda File</td>\n",
       "    </tr>\n",
       "    <tr>\n",
       "      <th>38</th>\n",
       "      <td>Undang-Undang_No.40_Tahun_2014</td>\n",
       "      <td>2022perpu002</td>\n",
       "      <td>Tidak Selaras</td>\n",
       "      <td>Berbeda File</td>\n",
       "    </tr>\n",
       "    <tr>\n",
       "      <th>85</th>\n",
       "      <td>UU411999</td>\n",
       "      <td>UU411999</td>\n",
       "      <td>Tidak Selaras</td>\n",
       "      <td>File yang Sama</td>\n",
       "    </tr>\n",
       "    <tr>\n",
       "      <th>122</th>\n",
       "      <td>Undang-Undang_No.21_Tahun_2008</td>\n",
       "      <td>2022perpu002</td>\n",
       "      <td>Tidak Selaras</td>\n",
       "      <td>Berbeda File</td>\n",
       "    </tr>\n",
       "  </tbody>\n",
       "</table>\n",
       "</div>"
      ],
      "text/plain": [
       "                       NAMA_DOKUMEN NAMA_DOKUMEN_LAIN          label  \\\n",
       "12   Undang-Undang_No.21_Tahun_2008     1_PMK.05_2021  Tidak Selaras   \n",
       "36                         UU411999      2022perpu002  Tidak Selaras   \n",
       "38   Undang-Undang_No.40_Tahun_2014      2022perpu002  Tidak Selaras   \n",
       "85                         UU411999          UU411999  Tidak Selaras   \n",
       "122  Undang-Undang_No.21_Tahun_2008      2022perpu002  Tidak Selaras   \n",
       "\n",
       "         IsSameFile  \n",
       "12     Berbeda File  \n",
       "36     Berbeda File  \n",
       "38     Berbeda File  \n",
       "85   File yang Sama  \n",
       "122    Berbeda File  "
      ]
     },
     "execution_count": 13,
     "metadata": {},
     "output_type": "execute_result"
    }
   ],
   "source": [
    "# Ubah kategori\n",
    "tidak_selaras_dokumen_2['IsSameFile'] = tidak_selaras_dokumen_2['IsSameFile'].replace({False:'Berbeda File',True:'File yang Sama'})\n",
    "tidak_selaras_dokumen_2.head()"
   ]
  },
  {
   "cell_type": "code",
   "execution_count": 14,
   "id": "48a0d437",
   "metadata": {
    "execution": {
     "iopub.execute_input": "2023-08-01T02:26:31.049731Z",
     "iopub.status.busy": "2023-08-01T02:26:31.049326Z",
     "iopub.status.idle": "2023-08-01T02:26:31.283828Z",
     "shell.execute_reply": "2023-08-01T02:26:31.282471Z"
    },
    "papermill": {
     "duration": 0.255159,
     "end_time": "2023-08-01T02:26:31.286434",
     "exception": false,
     "start_time": "2023-08-01T02:26:31.031275",
     "status": "completed"
    },
    "tags": []
   },
   "outputs": [
    {
     "data": {
      "image/png": "[encoded data removed]",
      "text/plain": [
       "<Figure size 900x500 with 1 Axes>"
      ]
     },
     "metadata": {},
     "output_type": "display_data"
    }
   ],
   "source": [
    "# Visualisasi dengan countplot menggunakan Seaborn\n",
    "plt.figure(figsize=(9, 5))\n",
    "ax = sns.countplot(data=tidak_selaras_dokumen_2, x='IsSameFile')\n",
    "plt.title('Grafik Frekuensi Pasangan Ayat yang Tidak Selaras')\n",
    "plt.xlabel('Kategori')\n",
    "plt.ylabel('Frekuensi')\n",
    "plt.xticks(rotation=45)\n",
    "\n",
    "# Menambahkan jumlah frekuensi di atas setiap bar\n",
    "for p in ax.patches:\n",
    "    ax.annotate(f'{int(p.get_height())}', (p.get_x() + p.get_width() / 2., p.get_height()),\n",
    "                ha='center', va='bottom', fontsize=8, color='black', xytext=(0, 5),\n",
    "                textcoords='offset points')\n",
    "\n",
    "plt.show()"
   ]
  },
  {
   "cell_type": "markdown",
   "id": "1ccbebc4",
   "metadata": {
    "papermill": {
     "duration": 0.016848,
     "end_time": "2023-08-01T02:26:31.320467",
     "exception": false,
     "start_time": "2023-08-01T02:26:31.303619",
     "status": "completed"
    },
    "tags": []
   },
   "source": [
    "### Tahun"
   ]
  },
  {
   "cell_type": "code",
   "execution_count": 15,
   "id": "0f0faeb5",
   "metadata": {
    "execution": {
     "iopub.execute_input": "2023-08-01T02:26:31.358997Z",
     "iopub.status.busy": "2023-08-01T02:26:31.358595Z",
     "iopub.status.idle": "2023-08-01T02:26:31.656401Z",
     "shell.execute_reply": "2023-08-01T02:26:31.655502Z"
    },
    "papermill": {
     "duration": 0.319939,
     "end_time": "2023-08-01T02:26:31.658603",
     "exception": false,
     "start_time": "2023-08-01T02:26:31.338664",
     "status": "completed"
    },
    "tags": []
   },
   "outputs": [
    {
     "data": {
      "text/html": [
       "<div>\n",
       "<style scoped>\n",
       "    .dataframe tbody tr th:only-of-type {\n",
       "        vertical-align: middle;\n",
       "    }\n",
       "\n",
       "    .dataframe tbody tr th {\n",
       "        vertical-align: top;\n",
       "    }\n",
       "\n",
       "    .dataframe thead th {\n",
       "        text-align: right;\n",
       "    }\n",
       "</style>\n",
       "<table border=\"1\" class=\"dataframe\">\n",
       "  <thead>\n",
       "    <tr style=\"text-align: right;\">\n",
       "      <th></th>\n",
       "      <th>NAMA_DOKUMEN</th>\n",
       "      <th>NO_PASAL</th>\n",
       "      <th>NO_AYAT</th>\n",
       "      <th>BUNYI_AYAT</th>\n",
       "      <th>NAMA_DOKUMEN_LAIN</th>\n",
       "      <th>NO_PASAL_LAIN</th>\n",
       "      <th>NO_AYAT_LAIN</th>\n",
       "      <th>BUNYI_AYAT_LAIN</th>\n",
       "      <th>TOPIC</th>\n",
       "      <th>label</th>\n",
       "      <th>score</th>\n",
       "      <th>TAHUN_DOKUMEN</th>\n",
       "      <th>TAHUN_DOKUMEN_LAIN</th>\n",
       "    </tr>\n",
       "  </thead>\n",
       "  <tbody>\n",
       "    <tr>\n",
       "      <th>0</th>\n",
       "      <td>Undang-Undang_No.40_Tahun_2014</td>\n",
       "      <td>3</td>\n",
       "      <td>2</td>\n",
       "      <td>Perusahaan asuransi jiwa syariah hanya dapat m...</td>\n",
       "      <td>Undang-Undang_No.40_Tahun_2014</td>\n",
       "      <td>53</td>\n",
       "      <td>1</td>\n",
       "      <td>Perusahaan Asuransi dan Perusahaan Asuransi Sy...</td>\n",
       "      <td>35</td>\n",
       "      <td>Selaras</td>\n",
       "      <td>0.790448</td>\n",
       "      <td>2014</td>\n",
       "      <td>2014</td>\n",
       "    </tr>\n",
       "    <tr>\n",
       "      <th>1</th>\n",
       "      <td>Peraturan_Pemerintah_No.25_Tahun_2020</td>\n",
       "      <td>38</td>\n",
       "      <td>3</td>\n",
       "      <td>Ketentuan lebih lanjut mengenai persyaratan un...</td>\n",
       "      <td>Peraturan_Pemerintah_No.25_Tahun_2020</td>\n",
       "      <td>64</td>\n",
       "      <td>1</td>\n",
       "      <td>Dana Tapera yang bersumber dari dana Fasilitas...</td>\n",
       "      <td>2</td>\n",
       "      <td>Selaras</td>\n",
       "      <td>0.852398</td>\n",
       "      <td>2020</td>\n",
       "      <td>2020</td>\n",
       "    </tr>\n",
       "    <tr>\n",
       "      <th>2</th>\n",
       "      <td>PERMEN_DAGRI_52_2012</td>\n",
       "      <td>20</td>\n",
       "      <td>4</td>\n",
       "      <td>Penyertaan modal dan pemberian pinjaman sebaga...</td>\n",
       "      <td>Peraturan_Menteri_Keuangan_nomor_218_PMK.06_20...</td>\n",
       "      <td>23</td>\n",
       "      <td>7</td>\n",
       "      <td>Penilaian atas aspek operasional penerima inve...</td>\n",
       "      <td>24</td>\n",
       "      <td>Selaras</td>\n",
       "      <td>0.654027</td>\n",
       "      <td>2012</td>\n",
       "      <td>2020</td>\n",
       "    </tr>\n",
       "    <tr>\n",
       "      <th>3</th>\n",
       "      <td>Undang-Undang_No.9_Tahun_2018</td>\n",
       "      <td>19</td>\n",
       "      <td>2</td>\n",
       "      <td>Mitra Instansi Pengelola PNBP sebagaimana dima...</td>\n",
       "      <td>Undang-Undang_No.9_Tahun_2018</td>\n",
       "      <td>47</td>\n",
       "      <td>1</td>\n",
       "      <td>Terhadap Wajib Bayar yang menghitung sendiri k...</td>\n",
       "      <td>25</td>\n",
       "      <td>Selaras</td>\n",
       "      <td>0.649626</td>\n",
       "      <td>2018</td>\n",
       "      <td>2018</td>\n",
       "    </tr>\n",
       "    <tr>\n",
       "      <th>4</th>\n",
       "      <td>Undang-Undang_No.21_Tahun_2008</td>\n",
       "      <td>35</td>\n",
       "      <td>4</td>\n",
       "      <td>Bank Indonesia dapat menetapkan pengecualian t...</td>\n",
       "      <td>Undang-Undang_No.21_Tahun_2008</td>\n",
       "      <td>52</td>\n",
       "      <td>1</td>\n",
       "      <td>Bank Syariah dan UUS wajib menyampaikan segala...</td>\n",
       "      <td>13</td>\n",
       "      <td>Selaras</td>\n",
       "      <td>0.764714</td>\n",
       "      <td>2008</td>\n",
       "      <td>2008</td>\n",
       "    </tr>\n",
       "  </tbody>\n",
       "</table>\n",
       "</div>"
      ],
      "text/plain": [
       "                            NAMA_DOKUMEN  NO_PASAL  NO_AYAT  \\\n",
       "0         Undang-Undang_No.40_Tahun_2014         3        2   \n",
       "1  Peraturan_Pemerintah_No.25_Tahun_2020        38        3   \n",
       "2                   PERMEN_DAGRI_52_2012        20        4   \n",
       "3          Undang-Undang_No.9_Tahun_2018        19        2   \n",
       "4         Undang-Undang_No.21_Tahun_2008        35        4   \n",
       "\n",
       "                                          BUNYI_AYAT  \\\n",
       "0  Perusahaan asuransi jiwa syariah hanya dapat m...   \n",
       "1  Ketentuan lebih lanjut mengenai persyaratan un...   \n",
       "2  Penyertaan modal dan pemberian pinjaman sebaga...   \n",
       "3  Mitra Instansi Pengelola PNBP sebagaimana dima...   \n",
       "4  Bank Indonesia dapat menetapkan pengecualian t...   \n",
       "\n",
       "                                   NAMA_DOKUMEN_LAIN  NO_PASAL_LAIN  \\\n",
       "0                     Undang-Undang_No.40_Tahun_2014             53   \n",
       "1              Peraturan_Pemerintah_No.25_Tahun_2020             64   \n",
       "2  Peraturan_Menteri_Keuangan_nomor_218_PMK.06_20...             23   \n",
       "3                      Undang-Undang_No.9_Tahun_2018             47   \n",
       "4                     Undang-Undang_No.21_Tahun_2008             52   \n",
       "\n",
       "   NO_AYAT_LAIN                                    BUNYI_AYAT_LAIN  TOPIC  \\\n",
       "0             1  Perusahaan Asuransi dan Perusahaan Asuransi Sy...     35   \n",
       "1             1  Dana Tapera yang bersumber dari dana Fasilitas...      2   \n",
       "2             7  Penilaian atas aspek operasional penerima inve...     24   \n",
       "3             1  Terhadap Wajib Bayar yang menghitung sendiri k...     25   \n",
       "4             1  Bank Syariah dan UUS wajib menyampaikan segala...     13   \n",
       "\n",
       "     label     score  TAHUN_DOKUMEN  TAHUN_DOKUMEN_LAIN  \n",
       "0  Selaras  0.790448           2014                2014  \n",
       "1  Selaras  0.852398           2020                2020  \n",
       "2  Selaras  0.654027           2012                2020  \n",
       "3  Selaras  0.649626           2018                2018  \n",
       "4  Selaras  0.764714           2008                2008  "
      ]
     },
     "execution_count": 15,
     "metadata": {},
     "output_type": "execute_result"
    }
   ],
   "source": [
    "# Mapping masing-masing dokumen ke tahun pembuatan\n",
    "year_mapping = {'Peraturan_Presiden_No.9_Tahun_2011':2011,'1_PMK.05_2021': 2021, '2021pp049': 2021, '2022perpu002': 2022, '2022pp031': 2022, 'INPRES Nomor 6 Tahun 2016': 2016, 'Inpres No 6 Tahun 2014': 2014, 'Inpres Nomor 2 Tahun 2021': 2021, 'Inpres_11_2011': 2011, 'KEMENKO KOOREK KEP23MEKON042008 2008': 2008, 'KEPMENKEU 511KMK062002 2002': 2002, 'KEPMEN_DAGRI_29_2002': 2002, 'KEPMEN_KEU_509KMK062002_2002': 2002, 'KEPMEN_KOOREK_KEP45MEKON082007_2007': 2007, 'KEPMGK_INVBKPM_12SK1999_1999': 1999, 'KEPMGK_INVBKPM_33SK1998_1998': 1998, 'KEPMGK_INVBKPM_38SK1999_1999': 1999, 'KEPMNG LH 9 2001': 2001, 'Keppres Nomor 11 Tahun 2021': 2021, 'Keppres Nomor 20 Tahun 2020': 2020, 'Keppres0541993': 1993, 'Keppres2951965': 1965, 'Keputusan Menteri_KP_45_Tahun_2015': 2015, 'Keputusan Presiden No 101 Tahun 1998': 1998, 'Keputusan Presiden No 117 Tahun 1999': 1999, 'Keputusan Presiden No 12 Tahun 2006': 2006, 'Keputusan Presiden No 28 Tahun 2010': 2010, 'Keputusan Presiden No 37 Tahun 1970': 1970, 'Keputusan_Presiden_No.108_Tahun_2001': 2001, 'Keputusan_Presiden_No.121_Tahun_1999': 1999, 'Keputusan_Presiden_No.176_Tahun_2000': 2000, 'Keputusan_Presiden_No.32_Tahun_2016': 2016, 'PERATURAN_PEMERINTAH_PENGGANTI_UNDANG-UNDANG_NOMOR_21_TAHUN_1960': 1960, 'PERMEN_DAGRI_52_2012': 2012, 'PERMEN_KEU_119PMK082016_2016': 2016, 'PERMEN_KEU_209PMK052015_2015': 2015, 'PERMEN_KEU_231PMK062017_2017': 2017, 'PERMEN_KEU_53PMK052020_2020': 2020, 'PERMEN_KEU_91PMK012017_2017': 2017, 'PERMEN_KOMARVES_6_2020': 2020, 'PERPRES_41_2015': 2015, 'PERPRES_NO_55_2020': 2020, 'PP_27_1985': 1985, 'PP_55_2015': 2015, 'PP_NO_24_2019': 2019, 'PP_NO_33_2013': 2013, 'PP_NO_5_2018': 2018, 'PP_NO_73_1992': 1992, 'Peraturan Menteri Keuangan Nomor 183 Tahun 2022': 2022, 'Peraturan Menteri Keuangan Republik Indonesia Nomor 103 Tahun 2019': 2019, 'Peraturan Menteri Keuangan Republik Indonesia Nomor 50 Tahun 2019': 2019, 'Peraturan Menteri Koordinator Bidang Kemaritiman dan Investasi Republik Indonesia No 1 Tahun 2022': 2022, 'Peraturan Menteri Perindustrian Republik Indonesia Nomor 64 Tahun 2016': 2016, 'Peraturan Pemerintah No 1 Tahun 2008': 2008, 'Peraturan Pemerintah No 105 Tahun 2000': 2000, 'Peraturan Pemerintah No 14 Tahun 2005': 2005, 'Peraturan Pemerintah No 28 Tahun 1996': 1996, 'Peraturan Pemerintah No 33 Tahun 1993': 1993, 'Peraturan Pemerintah No 40 Tahun 2000': 2000, 'Peraturan Pemerintah No 49 Tahun 2017': 2017, 'Peraturan Pemerintah No 54 Tahun 1993': 1993, 'Peraturan Pemerintah No 63 Tahun 2019': 2019, 'Peraturan Pemerintah No 73 Tahun 2016': 2016, 'Peraturan Pemerintah Pengganti Undang-Undang Nomor 7 Tahun 1962': 1962, 'Peraturan Pemerintah Republik Indonesia No 93 Tahun 2021': 2021, 'Peraturan Presiden No 23 Tahun 2017': 2017, 'Peraturan Presiden Nomor 63 Tahun 2021': 2021, 'Peraturan Presiden Republik Indonesia No 49 Tahun 2011': 2011, 'Peraturan_Menteri_Keuangan_nomor_218_PMK.06_2020_tahun_2020': 2020, 'Peraturan_Pemerintah_No.107_Tahun_2015': 2015, 'Peraturan_Pemerintah_No.18_Tahun_1983': 1983, 'Peraturan_Pemerintah_No.25_Tahun_2020': 2020, 'Peraturan_Pemerintah_No.28_Tahun_1984': 1984, 'Peraturan_Pemerintah_No.30_Tahun_1982': 1982, 'Peraturan_Pemerintah_No.48_Tahun_2008': 2008, 'Peraturan_Pemerintah_No.53_Tahun_2018': 2018, 'Peraturan_Pemerintah_No.75_Tahun_1992': 1992, 'Peraturan_Pemerintah_No.77_Tahun_1992': 1992, 'Peraturan_Pemerintah_No.8_Tahun_2007': 2007, 'Peraturan_Pemerintah_No.99_Tahun_2013': 2013, 'Peraturan_Pemerintah_No._45_Tahun_1995': 1995, 'Peraturan_Pemerintah_No._49_Tahun_2011': 2011, 'Peraturan_Presiden_No.10_Tahun_1964': 1964, 'Peraturan_Presiden_No.44_Tahun_2008': 2008, 'Peraturan_Presiden_No.46_Tahun_2019': 2019, 'Peraturan_Presiden_No.71_Tahun_2019': 2019, 'Peraturan_Presiden_No._27_Tahun_2009': 2009, 'Perpres Nomor 31 Tahun 2021': 2021, 'Perpres Nomor 98 Tahun 2021': 2021, 'Perpu Nomor 1 Tahun 2020': 2020, 'Salinan Perpres Nomor 71 Tahun 2019': 2019, 'Salinan UU Nomor 9 Tahun 2020': 2020, 'UU Nomor 4 Tahun 2009': 2009, 'UU411999': 1999, 'UU_34_1964': 1964, 'UU_NO_4_2016': 2016, 'Undang-Undang No 22 Tahun 2006': 2006, 'Undang-Undang_No.11_Tahun_2016': 2016, 'Undang-Undang_No.13_Tahun_1962': 1962, 'Undang-Undang_No.1_Tahun_2004': 2004, 'Undang-Undang_No.21_Tahun_2008': 2008, 'Undang-Undang_No.24_Tahun_2004': 2004, 'Undang-Undang_No.27_Tahun_2014': 2014, 'Undang-Undang_No.33_Tahun_2004': 2004, 'Undang-Undang_No.40_Tahun_2014': 2014, 'Undang-Undang_No.8_Tahun_1995': 1995, 'Undang-Undang_No.9_Tahun_2018': 2018, 'Undang-Undang_No._24_Tahun_2011': 2011, 'kp1831998': 1998, 'pmmarves002_2021': 2021}\n",
    "\n",
    "# Buat kolom baru\n",
    "df_label_2['TAHUN_DOKUMEN'] = df_label_2['NAMA_DOKUMEN'].apply(lambda x:year_mapping[x])\n",
    "df_label_2['TAHUN_DOKUMEN_LAIN'] = df_label_2['NAMA_DOKUMEN_LAIN'].apply(lambda x:year_mapping[x])\n",
    "\n",
    "df_label_2.head()"
   ]
  },
  {
   "cell_type": "code",
   "execution_count": 16,
   "id": "d40ab45e",
   "metadata": {
    "execution": {
     "iopub.execute_input": "2023-08-01T02:26:31.699547Z",
     "iopub.status.busy": "2023-08-01T02:26:31.698871Z",
     "iopub.status.idle": "2023-08-01T02:26:31.760854Z",
     "shell.execute_reply": "2023-08-01T02:26:31.759928Z"
    },
    "papermill": {
     "duration": 0.084889,
     "end_time": "2023-08-01T02:26:31.763300",
     "exception": false,
     "start_time": "2023-08-01T02:26:31.678411",
     "status": "completed"
    },
    "tags": []
   },
   "outputs": [
    {
     "data": {
      "text/html": [
       "<div>\n",
       "<style scoped>\n",
       "    .dataframe tbody tr th:only-of-type {\n",
       "        vertical-align: middle;\n",
       "    }\n",
       "\n",
       "    .dataframe tbody tr th {\n",
       "        vertical-align: top;\n",
       "    }\n",
       "\n",
       "    .dataframe thead th {\n",
       "        text-align: right;\n",
       "    }\n",
       "</style>\n",
       "<table border=\"1\" class=\"dataframe\">\n",
       "  <thead>\n",
       "    <tr style=\"text-align: right;\">\n",
       "      <th></th>\n",
       "      <th>Selisih Tahun</th>\n",
       "      <th>Jumlah</th>\n",
       "    </tr>\n",
       "  </thead>\n",
       "  <tbody>\n",
       "    <tr>\n",
       "      <th>0</th>\n",
       "      <td>0</td>\n",
       "      <td>4975</td>\n",
       "    </tr>\n",
       "    <tr>\n",
       "      <th>1</th>\n",
       "      <td>1</td>\n",
       "      <td>232</td>\n",
       "    </tr>\n",
       "    <tr>\n",
       "      <th>2</th>\n",
       "      <td>2</td>\n",
       "      <td>357</td>\n",
       "    </tr>\n",
       "    <tr>\n",
       "      <th>3</th>\n",
       "      <td>3</td>\n",
       "      <td>102</td>\n",
       "    </tr>\n",
       "    <tr>\n",
       "      <th>4</th>\n",
       "      <td>4</td>\n",
       "      <td>250</td>\n",
       "    </tr>\n",
       "  </tbody>\n",
       "</table>\n",
       "</div>"
      ],
      "text/plain": [
       "   Selisih Tahun  Jumlah\n",
       "0              0    4975\n",
       "1              1     232\n",
       "2              2     357\n",
       "3              3     102\n",
       "4              4     250"
      ]
     },
     "execution_count": 16,
     "metadata": {},
     "output_type": "execute_result"
    }
   ],
   "source": [
    "# Filter label yang tidak selaras\n",
    "tahun_df = df_label_2[df_label_2['label'] == 'Tidak Selaras'][['TAHUN_DOKUMEN','TAHUN_DOKUMEN_LAIN','label']]\n",
    "\n",
    "# Hitung selisih tahun\n",
    "tahun_df['Selisih_Tahun'] = abs(tahun_df['TAHUN_DOKUMEN'] - tahun_df['TAHUN_DOKUMEN_LAIN'])\n",
    "\n",
    "# Sort selisih tahun dan konvert ke dataframe\n",
    "selisih_tahun_df = tahun_df['Selisih_Tahun'].value_counts().sort_index()\n",
    "selisih_tahun_df = selisih_tahun_df.to_frame().reset_index().rename(columns={'index':'Selisih Tahun','Selisih_Tahun':'Jumlah'})\n",
    "\n",
    "selisih_tahun_df.head()"
   ]
  },
  {
   "cell_type": "code",
   "execution_count": 17,
   "id": "7b5ca32c",
   "metadata": {
    "execution": {
     "iopub.execute_input": "2023-08-01T02:26:31.804388Z",
     "iopub.status.busy": "2023-08-01T02:26:31.803675Z",
     "iopub.status.idle": "2023-08-01T02:26:32.907106Z",
     "shell.execute_reply": "2023-08-01T02:26:32.905874Z"
    },
    "papermill": {
     "duration": 1.127569,
     "end_time": "2023-08-01T02:26:32.910591",
     "exception": false,
     "start_time": "2023-08-01T02:26:31.783022",
     "status": "completed"
    },
    "tags": []
   },
   "outputs": [
    {
     "data": {
      "image/png": "[encoded data removed]",
      "text/plain": [
       "<Figure size 2000x1000 with 1 Axes>"
      ]
     },
     "metadata": {},
     "output_type": "display_data"
    }
   ],
   "source": [
    "# Visualisasi dengan countplot menggunakan Seaborn\n",
    "plt.figure(figsize=(20, 10))\n",
    "ax = sns.barplot(data=selisih_tahun_df, y='Jumlah', x='Selisih Tahun')\n",
    "plt.title('Grafik Jumlah Ayat Tidak Selaras')\n",
    "plt.xlabel('Selsih Tahun')\n",
    "plt.ylabel('Jumlah')\n",
    "plt.xticks(rotation=45)\n",
    "\n",
    "for p in ax.patches:\n",
    "    ax.annotate(f'{int(p.get_height())}', (p.get_x() + p.get_width() / 2., p.get_height()),\n",
    "                ha='center', va='bottom', fontsize=8, color='black', xytext=(0, 5),\n",
    "                textcoords='offset points')\n",
    "\n",
    "plt.show()\n",
    "\n",
    "plt.show()"
   ]
  },
  {
   "cell_type": "markdown",
   "id": "e2d03887",
   "metadata": {
    "papermill": {
     "duration": 0.020022,
     "end_time": "2023-08-01T02:26:32.952319",
     "exception": false,
     "start_time": "2023-08-01T02:26:32.932297",
     "status": "completed"
    },
    "tags": []
   },
   "source": [
    "### Tipe Dokumen"
   ]
  },
  {
   "cell_type": "code",
   "execution_count": 18,
   "id": "d567499a",
   "metadata": {
    "execution": {
     "iopub.execute_input": "2023-08-01T02:26:32.994800Z",
     "iopub.status.busy": "2023-08-01T02:26:32.994148Z",
     "iopub.status.idle": "2023-08-01T02:26:33.140897Z",
     "shell.execute_reply": "2023-08-01T02:26:33.139568Z"
    },
    "papermill": {
     "duration": 0.171104,
     "end_time": "2023-08-01T02:26:33.143636",
     "exception": false,
     "start_time": "2023-08-01T02:26:32.972532",
     "status": "completed"
    },
    "tags": []
   },
   "outputs": [
    {
     "data": {
      "text/html": [
       "<div>\n",
       "<style scoped>\n",
       "    .dataframe tbody tr th:only-of-type {\n",
       "        vertical-align: middle;\n",
       "    }\n",
       "\n",
       "    .dataframe tbody tr th {\n",
       "        vertical-align: top;\n",
       "    }\n",
       "\n",
       "    .dataframe thead th {\n",
       "        text-align: right;\n",
       "    }\n",
       "</style>\n",
       "<table border=\"1\" class=\"dataframe\">\n",
       "  <thead>\n",
       "    <tr style=\"text-align: right;\">\n",
       "      <th></th>\n",
       "      <th>NAMA_DOKUMEN</th>\n",
       "      <th>NO_PASAL</th>\n",
       "      <th>NO_AYAT</th>\n",
       "      <th>BUNYI_AYAT</th>\n",
       "      <th>NAMA_DOKUMEN_LAIN</th>\n",
       "      <th>NO_PASAL_LAIN</th>\n",
       "      <th>NO_AYAT_LAIN</th>\n",
       "      <th>BUNYI_AYAT_LAIN</th>\n",
       "      <th>TOPIC</th>\n",
       "      <th>label</th>\n",
       "      <th>score</th>\n",
       "      <th>TAHUN_DOKUMEN</th>\n",
       "      <th>TAHUN_DOKUMEN_LAIN</th>\n",
       "      <th>JENIS_PERATURAN</th>\n",
       "      <th>JENIS_PERATURAN_LAIN</th>\n",
       "    </tr>\n",
       "  </thead>\n",
       "  <tbody>\n",
       "    <tr>\n",
       "      <th>0</th>\n",
       "      <td>Undang-Undang_No.40_Tahun_2014</td>\n",
       "      <td>3</td>\n",
       "      <td>2</td>\n",
       "      <td>Perusahaan asuransi jiwa syariah hanya dapat m...</td>\n",
       "      <td>Undang-Undang_No.40_Tahun_2014</td>\n",
       "      <td>53</td>\n",
       "      <td>1</td>\n",
       "      <td>Perusahaan Asuransi dan Perusahaan Asuransi Sy...</td>\n",
       "      <td>35</td>\n",
       "      <td>Selaras</td>\n",
       "      <td>0.790448</td>\n",
       "      <td>2014</td>\n",
       "      <td>2014</td>\n",
       "      <td>Undang-Undang</td>\n",
       "      <td>Undang-Undang</td>\n",
       "    </tr>\n",
       "    <tr>\n",
       "      <th>1</th>\n",
       "      <td>Peraturan_Pemerintah_No.25_Tahun_2020</td>\n",
       "      <td>38</td>\n",
       "      <td>3</td>\n",
       "      <td>Ketentuan lebih lanjut mengenai persyaratan un...</td>\n",
       "      <td>Peraturan_Pemerintah_No.25_Tahun_2020</td>\n",
       "      <td>64</td>\n",
       "      <td>1</td>\n",
       "      <td>Dana Tapera yang bersumber dari dana Fasilitas...</td>\n",
       "      <td>2</td>\n",
       "      <td>Selaras</td>\n",
       "      <td>0.852398</td>\n",
       "      <td>2020</td>\n",
       "      <td>2020</td>\n",
       "      <td>Peraturan Pemerintah</td>\n",
       "      <td>Peraturan Pemerintah</td>\n",
       "    </tr>\n",
       "    <tr>\n",
       "      <th>2</th>\n",
       "      <td>PERMEN_DAGRI_52_2012</td>\n",
       "      <td>20</td>\n",
       "      <td>4</td>\n",
       "      <td>Penyertaan modal dan pemberian pinjaman sebaga...</td>\n",
       "      <td>Peraturan_Menteri_Keuangan_nomor_218_PMK.06_20...</td>\n",
       "      <td>23</td>\n",
       "      <td>7</td>\n",
       "      <td>Penilaian atas aspek operasional penerima inve...</td>\n",
       "      <td>24</td>\n",
       "      <td>Selaras</td>\n",
       "      <td>0.654027</td>\n",
       "      <td>2012</td>\n",
       "      <td>2020</td>\n",
       "      <td>Peraturan Menteri</td>\n",
       "      <td>Peraturan Menteri</td>\n",
       "    </tr>\n",
       "    <tr>\n",
       "      <th>3</th>\n",
       "      <td>Undang-Undang_No.9_Tahun_2018</td>\n",
       "      <td>19</td>\n",
       "      <td>2</td>\n",
       "      <td>Mitra Instansi Pengelola PNBP sebagaimana dima...</td>\n",
       "      <td>Undang-Undang_No.9_Tahun_2018</td>\n",
       "      <td>47</td>\n",
       "      <td>1</td>\n",
       "      <td>Terhadap Wajib Bayar yang menghitung sendiri k...</td>\n",
       "      <td>25</td>\n",
       "      <td>Selaras</td>\n",
       "      <td>0.649626</td>\n",
       "      <td>2018</td>\n",
       "      <td>2018</td>\n",
       "      <td>Undang-Undang</td>\n",
       "      <td>Undang-Undang</td>\n",
       "    </tr>\n",
       "    <tr>\n",
       "      <th>4</th>\n",
       "      <td>Undang-Undang_No.21_Tahun_2008</td>\n",
       "      <td>35</td>\n",
       "      <td>4</td>\n",
       "      <td>Bank Indonesia dapat menetapkan pengecualian t...</td>\n",
       "      <td>Undang-Undang_No.21_Tahun_2008</td>\n",
       "      <td>52</td>\n",
       "      <td>1</td>\n",
       "      <td>Bank Syariah dan UUS wajib menyampaikan segala...</td>\n",
       "      <td>13</td>\n",
       "      <td>Selaras</td>\n",
       "      <td>0.764714</td>\n",
       "      <td>2008</td>\n",
       "      <td>2008</td>\n",
       "      <td>Undang-Undang</td>\n",
       "      <td>Undang-Undang</td>\n",
       "    </tr>\n",
       "  </tbody>\n",
       "</table>\n",
       "</div>"
      ],
      "text/plain": [
       "                            NAMA_DOKUMEN  NO_PASAL  NO_AYAT  \\\n",
       "0         Undang-Undang_No.40_Tahun_2014         3        2   \n",
       "1  Peraturan_Pemerintah_No.25_Tahun_2020        38        3   \n",
       "2                   PERMEN_DAGRI_52_2012        20        4   \n",
       "3          Undang-Undang_No.9_Tahun_2018        19        2   \n",
       "4         Undang-Undang_No.21_Tahun_2008        35        4   \n",
       "\n",
       "                                          BUNYI_AYAT  \\\n",
       "0  Perusahaan asuransi jiwa syariah hanya dapat m...   \n",
       "1  Ketentuan lebih lanjut mengenai persyaratan un...   \n",
       "2  Penyertaan modal dan pemberian pinjaman sebaga...   \n",
       "3  Mitra Instansi Pengelola PNBP sebagaimana dima...   \n",
       "4  Bank Indonesia dapat menetapkan pengecualian t...   \n",
       "\n",
       "                                   NAMA_DOKUMEN_LAIN  NO_PASAL_LAIN  \\\n",
       "0                     Undang-Undang_No.40_Tahun_2014             53   \n",
       "1              Peraturan_Pemerintah_No.25_Tahun_2020             64   \n",
       "2  Peraturan_Menteri_Keuangan_nomor_218_PMK.06_20...             23   \n",
       "3                      Undang-Undang_No.9_Tahun_2018             47   \n",
       "4                     Undang-Undang_No.21_Tahun_2008             52   \n",
       "\n",
       "   NO_AYAT_LAIN                                    BUNYI_AYAT_LAIN  TOPIC  \\\n",
       "0             1  Perusahaan Asuransi dan Perusahaan Asuransi Sy...     35   \n",
       "1             1  Dana Tapera yang bersumber dari dana Fasilitas...      2   \n",
       "2             7  Penilaian atas aspek operasional penerima inve...     24   \n",
       "3             1  Terhadap Wajib Bayar yang menghitung sendiri k...     25   \n",
       "4             1  Bank Syariah dan UUS wajib menyampaikan segala...     13   \n",
       "\n",
       "     label     score  TAHUN_DOKUMEN  TAHUN_DOKUMEN_LAIN       JENIS_PERATURAN  \\\n",
       "0  Selaras  0.790448           2014                2014         Undang-Undang   \n",
       "1  Selaras  0.852398           2020                2020  Peraturan Pemerintah   \n",
       "2  Selaras  0.654027           2012                2020     Peraturan Menteri   \n",
       "3  Selaras  0.649626           2018                2018         Undang-Undang   \n",
       "4  Selaras  0.764714           2008                2008         Undang-Undang   \n",
       "\n",
       "   JENIS_PERATURAN_LAIN  \n",
       "0         Undang-Undang  \n",
       "1  Peraturan Pemerintah  \n",
       "2     Peraturan Menteri  \n",
       "3         Undang-Undang  \n",
       "4         Undang-Undang  "
      ]
     },
     "execution_count": 18,
     "metadata": {},
     "output_type": "execute_result"
    }
   ],
   "source": [
    "# Mapping ke tipe dokumen yang sesuai\n",
    "dokumen_mapping = {'Peraturan_Presiden_No.9_Tahun_2011':'Peraturan Presiden','1_PMK.05_2021': 'Peraturan Menteri', '2021pp049': 'Peraturan Pemerintah', '2022perpu002': 'PERPU', '2022pp031': 'Peraturan Pemerintah', 'INPRES Nomor 6 Tahun 2016': 'Peraturan Presiden', 'Inpres No 6 Tahun 2014': 'Peraturan Presiden', 'Inpres Nomor 2 Tahun 2021': 'Peraturan Presiden', 'Inpres_11_2011': 'Peraturan Presiden', 'KEMENKO KOOREK KEP23MEKON042008 2008': 'Peraturan Menteri', 'KEPMENKEU 511KMK062002 2002': 'Peraturan Menteri', 'KEPMEN_DAGRI_29_2002': 'Peraturan Menteri', 'KEPMEN_KEU_509KMK062002_2002': 'Peraturan Menteri', 'KEPMEN_KOOREK_KEP45MEKON082007_2007': 'Peraturan Menteri', 'KEPMGK_INVBKPM_12SK1999_1999': 'Peraturan Menteri', 'KEPMGK_INVBKPM_33SK1998_1998': 'Peraturan Menteri', 'KEPMGK_INVBKPM_38SK1999_1999': 'Peraturan Menteri', 'KEPMNG LH 9 2001': 'Peraturan Menteri', 'Keppres Nomor 11 Tahun 2021': 'Peraturan Presiden', 'Keppres Nomor 20 Tahun 2020': 'Peraturan Presiden', 'Keppres0541993': 'Peraturan Presiden', 'Keppres2951965': 'Peraturan Presiden', 'Keputusan Menteri_KP_45_Tahun_2015': 'Peraturan Menteri', 'Keputusan Presiden No 101 Tahun 1998': 'Peraturan Presiden', 'Keputusan Presiden No 117 Tahun 1999': 'Peraturan Presiden', 'Keputusan Presiden No 12 Tahun 2006': 'Peraturan Presiden', 'Keputusan Presiden No 28 Tahun 2010': 'Peraturan Presiden', 'Keputusan Presiden No 37 Tahun 1970': 'Peraturan Presiden', 'Keputusan_Presiden_No.108_Tahun_2001': 'Peraturan Presiden', 'Keputusan_Presiden_No.121_Tahun_1999': 'Peraturan Presiden', 'Keputusan_Presiden_No.176_Tahun_2000': 'Peraturan Presiden', 'Keputusan_Presiden_No.32_Tahun_2016': 'Peraturan Presiden', 'PERATURAN_PEMERINTAH_PENGGANTI_UNDANG-UNDANG_NOMOR_21_TAHUN_1960': 'PERPU', 'PERMEN_DAGRI_52_2012': 'Peraturan Menteri', 'PERMEN_KEU_119PMK082016_2016': 'Peraturan Menteri', 'PERMEN_KEU_209PMK052015_2015': 'Peraturan Menteri', 'PERMEN_KEU_231PMK062017_2017': 'Peraturan Menteri', 'PERMEN_KEU_53PMK052020_2020': 'Peraturan Menteri', 'PERMEN_KEU_91PMK012017_2017': 'Peraturan Menteri', 'PERMEN_KOMARVES_6_2020': 'Peraturan Menteri', 'PERPRES_41_2015': 'Peraturan Presiden', 'PERPRES_NO_55_2020': 'Peraturan Presiden', 'PP_27_1985': 'Peraturan Pemerintah', 'PP_55_2015': 'Peraturan Pemerintah', 'PP_NO_24_2019': 'Peraturan Pemerintah', 'PP_NO_33_2013': 'Peraturan Pemerintah', 'PP_NO_5_2018': 'Peraturan Pemerintah', 'PP_NO_73_1992': 'Peraturan Pemerintah', 'Peraturan Menteri Keuangan Nomor 183 Tahun 2022': 'Peraturan Menteri', 'Peraturan Menteri Keuangan Republik Indonesia Nomor 103 Tahun 2019': 'Peraturan Menteri', 'Peraturan Menteri Keuangan Republik Indonesia Nomor 50 Tahun 2019': 'Peraturan Menteri', 'Peraturan Menteri Koordinator Bidang Kemaritiman dan Investasi Republik Indonesia No 1 Tahun 2022': 'Peraturan Menteri', 'Peraturan Menteri Perindustrian Republik Indonesia Nomor 64 Tahun 2016': 'Peraturan Menteri', 'Peraturan Pemerintah No 1 Tahun 2008': 'Peraturan Pemerintah', 'Peraturan Pemerintah No 105 Tahun 2000': 'Peraturan Pemerintah', 'Peraturan Pemerintah No 14 Tahun 2005': 'Peraturan Pemerintah', 'Peraturan Pemerintah No 28 Tahun 1996': 'Peraturan Pemerintah', 'Peraturan Pemerintah No 33 Tahun 1993': 'Peraturan Pemerintah', 'Peraturan Pemerintah No 40 Tahun 2000': 'Peraturan Pemerintah', 'Peraturan Pemerintah No 49 Tahun 2017': 'Peraturan Pemerintah', 'Peraturan Pemerintah No 54 Tahun 1993': 'Peraturan Pemerintah', 'Peraturan Pemerintah No 63 Tahun 2019': 'Peraturan Pemerintah', 'Peraturan Pemerintah No 73 Tahun 2016': 'Peraturan Pemerintah', 'Peraturan Pemerintah Pengganti Undang-Undang Nomor 7 Tahun 1962': 'PERPU', 'Peraturan Pemerintah Republik Indonesia No 93 Tahun 2021': 'Peraturan Pemerintah', 'Peraturan Presiden No 23 Tahun 2017': 'Peraturan Presiden', 'Peraturan Presiden Nomor 63 Tahun 2021': 'Peraturan Presiden', 'Peraturan Presiden Republik Indonesia No 49 Tahun 2011': 'Peraturan Presiden', 'Peraturan_Menteri_Keuangan_nomor_218_PMK.06_2020_tahun_2020': 'Peraturan Menteri', 'Peraturan_Pemerintah_No.107_Tahun_2015': 'Peraturan Pemerintah', 'Peraturan_Pemerintah_No.18_Tahun_1983': 'Peraturan Pemerintah', 'Peraturan_Pemerintah_No.25_Tahun_2020': 'Peraturan Pemerintah', 'Peraturan_Pemerintah_No.28_Tahun_1984': 'Peraturan Pemerintah', 'Peraturan_Pemerintah_No.30_Tahun_1982': 'Peraturan Pemerintah', 'Peraturan_Pemerintah_No.48_Tahun_2008': 'Peraturan Pemerintah', 'Peraturan_Pemerintah_No.53_Tahun_2018': 'Peraturan Pemerintah', 'Peraturan_Pemerintah_No.75_Tahun_1992': 'Peraturan Pemerintah', 'Peraturan_Pemerintah_No.77_Tahun_1992': 'Peraturan Pemerintah', 'Peraturan_Pemerintah_No.8_Tahun_2007': 'Peraturan Pemerintah', 'Peraturan_Pemerintah_No.99_Tahun_2013': 'Peraturan Pemerintah', 'Peraturan_Pemerintah_No._45_Tahun_1995': 'Peraturan Pemerintah', 'Peraturan_Pemerintah_No._49_Tahun_2011': 'Peraturan Pemerintah', 'Peraturan_Presiden_No.10_Tahun_1964': 'Peraturan Presiden', 'Peraturan_Presiden_No.44_Tahun_2008': 'Peraturan Presiden', 'Peraturan_Presiden_No.46_Tahun_2019': 'Peraturan Presiden', 'Peraturan_Presiden_No.71_Tahun_2019': 'Peraturan Presiden', 'Peraturan_Presiden_No._27_Tahun_2009': 'Peraturan Presiden', 'Perpres Nomor 31 Tahun 2021': 'Peraturan Presiden', 'Perpres Nomor 98 Tahun 2021': 'Peraturan Presiden', 'Perpu Nomor 1 Tahun 2020': 'PERPU', 'Salinan Perpres Nomor 71 Tahun 2019': 'Peraturan Presiden', 'Salinan UU Nomor 9 Tahun 2020': 'Undang-Undang', 'UU Nomor 4 Tahun 2009': 'Undang-Undang', 'UU411999': 'Undang-Undang', 'UU_34_1964': 'Undang-Undang', 'UU_NO_4_2016': 'Undang-Undang', 'Undang-Undang No 22 Tahun 2006': 'Undang-Undang', 'Undang-Undang_No.11_Tahun_2016': 'Undang-Undang', 'Undang-Undang_No.13_Tahun_1962': 'Undang-Undang', 'Undang-Undang_No.1_Tahun_2004': 'Undang-Undang', 'Undang-Undang_No.21_Tahun_2008': 'Undang-Undang', 'Undang-Undang_No.24_Tahun_2004': 'Undang-Undang', 'Undang-Undang_No.27_Tahun_2014': 'Undang-Undang', 'Undang-Undang_No.33_Tahun_2004': 'Undang-Undang', 'Undang-Undang_No.40_Tahun_2014': 'Undang-Undang', 'Undang-Undang_No.8_Tahun_1995': 'Undang-Undang', 'Undang-Undang_No.9_Tahun_2018': 'Undang-Undang', 'Undang-Undang_No._24_Tahun_2011': 'Undang-Undang', 'kp1831998': 'Peraturan Presiden', 'pmmarves002_2021': 'Peraturan Menteri'}\n",
    "\n",
    "# Buat kolom baru\n",
    "df_label_2['JENIS_PERATURAN'] = df_label_2['NAMA_DOKUMEN'].apply(lambda x:dokumen_mapping[x])\n",
    "df_label_2['JENIS_PERATURAN_LAIN'] = df_label_2['NAMA_DOKUMEN_LAIN'].apply(lambda x:dokumen_mapping[x])\n",
    "\n",
    "df_label_2.head()"
   ]
  },
  {
   "cell_type": "code",
   "execution_count": 19,
   "id": "4908504c",
   "metadata": {
    "execution": {
     "iopub.execute_input": "2023-08-01T02:26:33.186860Z",
     "iopub.status.busy": "2023-08-01T02:26:33.185873Z",
     "iopub.status.idle": "2023-08-01T02:26:33.262052Z",
     "shell.execute_reply": "2023-08-01T02:26:33.260557Z"
    },
    "papermill": {
     "duration": 0.100976,
     "end_time": "2023-08-01T02:26:33.264694",
     "exception": false,
     "start_time": "2023-08-01T02:26:33.163718",
     "status": "completed"
    },
    "tags": []
   },
   "outputs": [
    {
     "data": {
      "text/html": [
       "<div>\n",
       "<style scoped>\n",
       "    .dataframe tbody tr th:only-of-type {\n",
       "        vertical-align: middle;\n",
       "    }\n",
       "\n",
       "    .dataframe tbody tr th {\n",
       "        vertical-align: top;\n",
       "    }\n",
       "\n",
       "    .dataframe thead th {\n",
       "        text-align: right;\n",
       "    }\n",
       "</style>\n",
       "<table border=\"1\" class=\"dataframe\">\n",
       "  <thead>\n",
       "    <tr style=\"text-align: right;\">\n",
       "      <th></th>\n",
       "      <th>JENIS_PERATURAN</th>\n",
       "      <th>JENIS_PERATURAN_LAIN</th>\n",
       "      <th>label</th>\n",
       "    </tr>\n",
       "  </thead>\n",
       "  <tbody>\n",
       "    <tr>\n",
       "      <th>12</th>\n",
       "      <td>Undang-Undang</td>\n",
       "      <td>Peraturan Menteri</td>\n",
       "      <td>Tidak Selaras</td>\n",
       "    </tr>\n",
       "    <tr>\n",
       "      <th>36</th>\n",
       "      <td>Undang-Undang</td>\n",
       "      <td>PERPU</td>\n",
       "      <td>Tidak Selaras</td>\n",
       "    </tr>\n",
       "    <tr>\n",
       "      <th>38</th>\n",
       "      <td>Undang-Undang</td>\n",
       "      <td>PERPU</td>\n",
       "      <td>Tidak Selaras</td>\n",
       "    </tr>\n",
       "    <tr>\n",
       "      <th>85</th>\n",
       "      <td>Undang-Undang</td>\n",
       "      <td>Undang-Undang</td>\n",
       "      <td>Tidak Selaras</td>\n",
       "    </tr>\n",
       "    <tr>\n",
       "      <th>122</th>\n",
       "      <td>Undang-Undang</td>\n",
       "      <td>PERPU</td>\n",
       "      <td>Tidak Selaras</td>\n",
       "    </tr>\n",
       "  </tbody>\n",
       "</table>\n",
       "</div>"
      ],
      "text/plain": [
       "    JENIS_PERATURAN JENIS_PERATURAN_LAIN          label\n",
       "12    Undang-Undang    Peraturan Menteri  Tidak Selaras\n",
       "36    Undang-Undang                PERPU  Tidak Selaras\n",
       "38    Undang-Undang                PERPU  Tidak Selaras\n",
       "85    Undang-Undang        Undang-Undang  Tidak Selaras\n",
       "122   Undang-Undang                PERPU  Tidak Selaras"
      ]
     },
     "execution_count": 19,
     "metadata": {},
     "output_type": "execute_result"
    }
   ],
   "source": [
    "# Filter label yang tidak selaras\n",
    "jenis_df = df_label_2[df_label_2['label'] == 'Tidak Selaras'][['JENIS_PERATURAN','JENIS_PERATURAN_LAIN','label']]\n",
    "\n",
    "jenis_df.head()"
   ]
  },
  {
   "cell_type": "code",
   "execution_count": 20,
   "id": "463de9ab",
   "metadata": {
    "execution": {
     "iopub.execute_input": "2023-08-01T02:26:33.305670Z",
     "iopub.status.busy": "2023-08-01T02:26:33.305273Z",
     "iopub.status.idle": "2023-08-01T02:26:33.712121Z",
     "shell.execute_reply": "2023-08-01T02:26:33.710819Z"
    },
    "papermill": {
     "duration": 0.430886,
     "end_time": "2023-08-01T02:26:33.715196",
     "exception": false,
     "start_time": "2023-08-01T02:26:33.284310",
     "status": "completed"
    },
    "tags": []
   },
   "outputs": [],
   "source": [
    "# Sort urutan JENIS_PERATURAN dan JENIS_PERATURAN_LAIN\n",
    "jenis_df['Sorted_Jenis'] = jenis_df.apply(lambda row: sorted([row['JENIS_PERATURAN'], row['JENIS_PERATURAN_LAIN']]), axis=1)\n",
    "jenis_df = jenis_df[['Sorted_Jenis']]\n",
    "jenis_df = pd.DataFrame(jenis_df['Sorted_Jenis'].to_list(), columns = ['JENIS_PERATURAN','JENIS_PERATURAN_LAIN'])"
   ]
  },
  {
   "cell_type": "code",
   "execution_count": 21,
   "id": "569d3f44",
   "metadata": {
    "execution": {
     "iopub.execute_input": "2023-08-01T02:26:33.758741Z",
     "iopub.status.busy": "2023-08-01T02:26:33.757673Z",
     "iopub.status.idle": "2023-08-01T02:26:33.779083Z",
     "shell.execute_reply": "2023-08-01T02:26:33.777901Z"
    },
    "papermill": {
     "duration": 0.045539,
     "end_time": "2023-08-01T02:26:33.781746",
     "exception": false,
     "start_time": "2023-08-01T02:26:33.736207",
     "status": "completed"
    },
    "tags": []
   },
   "outputs": [
    {
     "data": {
      "text/html": [
       "<div>\n",
       "<style scoped>\n",
       "    .dataframe tbody tr th:only-of-type {\n",
       "        vertical-align: middle;\n",
       "    }\n",
       "\n",
       "    .dataframe tbody tr th {\n",
       "        vertical-align: top;\n",
       "    }\n",
       "\n",
       "    .dataframe thead th {\n",
       "        text-align: right;\n",
       "    }\n",
       "</style>\n",
       "<table border=\"1\" class=\"dataframe\">\n",
       "  <thead>\n",
       "    <tr style=\"text-align: right;\">\n",
       "      <th></th>\n",
       "      <th>JENIS_PERATURAN</th>\n",
       "      <th>JENIS_PERATURAN_LAIN</th>\n",
       "      <th>count</th>\n",
       "    </tr>\n",
       "  </thead>\n",
       "  <tbody>\n",
       "    <tr>\n",
       "      <th>0</th>\n",
       "      <td>PERPU</td>\n",
       "      <td>PERPU</td>\n",
       "      <td>3038</td>\n",
       "    </tr>\n",
       "    <tr>\n",
       "      <th>1</th>\n",
       "      <td>PERPU</td>\n",
       "      <td>Peraturan Menteri</td>\n",
       "      <td>140</td>\n",
       "    </tr>\n",
       "    <tr>\n",
       "      <th>2</th>\n",
       "      <td>PERPU</td>\n",
       "      <td>Peraturan Pemerintah</td>\n",
       "      <td>324</td>\n",
       "    </tr>\n",
       "    <tr>\n",
       "      <th>3</th>\n",
       "      <td>PERPU</td>\n",
       "      <td>Peraturan Presiden</td>\n",
       "      <td>27</td>\n",
       "    </tr>\n",
       "    <tr>\n",
       "      <th>4</th>\n",
       "      <td>PERPU</td>\n",
       "      <td>Undang-Undang</td>\n",
       "      <td>1420</td>\n",
       "    </tr>\n",
       "    <tr>\n",
       "      <th>5</th>\n",
       "      <td>Peraturan Menteri</td>\n",
       "      <td>Peraturan Menteri</td>\n",
       "      <td>449</td>\n",
       "    </tr>\n",
       "    <tr>\n",
       "      <th>6</th>\n",
       "      <td>Peraturan Menteri</td>\n",
       "      <td>Peraturan Pemerintah</td>\n",
       "      <td>263</td>\n",
       "    </tr>\n",
       "    <tr>\n",
       "      <th>7</th>\n",
       "      <td>Peraturan Menteri</td>\n",
       "      <td>Peraturan Presiden</td>\n",
       "      <td>45</td>\n",
       "    </tr>\n",
       "    <tr>\n",
       "      <th>8</th>\n",
       "      <td>Peraturan Menteri</td>\n",
       "      <td>Undang-Undang</td>\n",
       "      <td>209</td>\n",
       "    </tr>\n",
       "    <tr>\n",
       "      <th>9</th>\n",
       "      <td>Peraturan Pemerintah</td>\n",
       "      <td>Peraturan Pemerintah</td>\n",
       "      <td>820</td>\n",
       "    </tr>\n",
       "    <tr>\n",
       "      <th>10</th>\n",
       "      <td>Peraturan Pemerintah</td>\n",
       "      <td>Peraturan Presiden</td>\n",
       "      <td>100</td>\n",
       "    </tr>\n",
       "    <tr>\n",
       "      <th>11</th>\n",
       "      <td>Peraturan Pemerintah</td>\n",
       "      <td>Undang-Undang</td>\n",
       "      <td>548</td>\n",
       "    </tr>\n",
       "    <tr>\n",
       "      <th>12</th>\n",
       "      <td>Peraturan Presiden</td>\n",
       "      <td>Peraturan Presiden</td>\n",
       "      <td>163</td>\n",
       "    </tr>\n",
       "    <tr>\n",
       "      <th>13</th>\n",
       "      <td>Peraturan Presiden</td>\n",
       "      <td>Undang-Undang</td>\n",
       "      <td>46</td>\n",
       "    </tr>\n",
       "    <tr>\n",
       "      <th>14</th>\n",
       "      <td>Undang-Undang</td>\n",
       "      <td>Undang-Undang</td>\n",
       "      <td>1353</td>\n",
       "    </tr>\n",
       "  </tbody>\n",
       "</table>\n",
       "</div>"
      ],
      "text/plain": [
       "         JENIS_PERATURAN  JENIS_PERATURAN_LAIN  count\n",
       "0                  PERPU                 PERPU   3038\n",
       "1                  PERPU     Peraturan Menteri    140\n",
       "2                  PERPU  Peraturan Pemerintah    324\n",
       "3                  PERPU    Peraturan Presiden     27\n",
       "4                  PERPU         Undang-Undang   1420\n",
       "5      Peraturan Menteri     Peraturan Menteri    449\n",
       "6      Peraturan Menteri  Peraturan Pemerintah    263\n",
       "7      Peraturan Menteri    Peraturan Presiden     45\n",
       "8      Peraturan Menteri         Undang-Undang    209\n",
       "9   Peraturan Pemerintah  Peraturan Pemerintah    820\n",
       "10  Peraturan Pemerintah    Peraturan Presiden    100\n",
       "11  Peraturan Pemerintah         Undang-Undang    548\n",
       "12    Peraturan Presiden    Peraturan Presiden    163\n",
       "13    Peraturan Presiden         Undang-Undang     46\n",
       "14         Undang-Undang         Undang-Undang   1353"
      ]
     },
     "execution_count": 21,
     "metadata": {},
     "output_type": "execute_result"
    }
   ],
   "source": [
    "# Hitung frekuensi pasangan nilai 'JENIS_PERATURAN' dan 'JENIS_PERATURAN_LAIN'\n",
    "value_counts = jenis_df.groupby(['JENIS_PERATURAN', 'JENIS_PERATURAN_LAIN']).size().reset_index(name='count')\n",
    "value_counts"
   ]
  },
  {
   "cell_type": "code",
   "execution_count": 22,
   "id": "78c9dc36",
   "metadata": {
    "execution": {
     "iopub.execute_input": "2023-08-01T02:26:33.823888Z",
     "iopub.status.busy": "2023-08-01T02:26:33.823391Z",
     "iopub.status.idle": "2023-08-01T02:26:34.365102Z",
     "shell.execute_reply": "2023-08-01T02:26:34.363694Z"
    },
    "papermill": {
     "duration": 0.566653,
     "end_time": "2023-08-01T02:26:34.368369",
     "exception": false,
     "start_time": "2023-08-01T02:26:33.801716",
     "status": "completed"
    },
    "tags": []
   },
   "outputs": [
    {
     "data": {
      "text/plain": [
       "<Figure size 1200x600 with 0 Axes>"
      ]
     },
     "metadata": {},
     "output_type": "display_data"
    },
    {
     "data": {
      "image/png": "[encoded data removed]",
      "text/plain": [
       "<Figure size 1200x600 with 1 Axes>"
      ]
     },
     "metadata": {},
     "output_type": "display_data"
    }
   ],
   "source": [
    "# Pivot the data to create a stacked bar chart\n",
    "pivot_df = value_counts.pivot(index='JENIS_PERATURAN', columns='JENIS_PERATURAN_LAIN', values='count').fillna(0)\n",
    "\n",
    "# Plot the stacked bar chart\n",
    "plt.figure(figsize=(12, 6))\n",
    "pivot_df.plot(kind='bar', stacked=False,figsize=(12, 6))\n",
    "plt.xlabel('Jenis Peraturan')\n",
    "plt.ylabel('Jumlah')\n",
    "plt.title('Grafik Jumlah Ketidakselarasan Pasangan Ayat Berdasarkan Jenis')\n",
    "plt.xticks(rotation=0)\n",
    "plt.legend(title='Jenis Peraturan Lain')\n",
    "plt.tight_layout()\n",
    "plt.show()"
   ]
  },
  {
   "cell_type": "markdown",
   "id": "aca12436",
   "metadata": {
    "papermill": {
     "duration": 0.023073,
     "end_time": "2023-08-01T02:26:34.412985",
     "exception": false,
     "start_time": "2023-08-01T02:26:34.389912",
     "status": "completed"
    },
    "tags": []
   },
   "source": [
    "### Topic"
   ]
  },
  {
   "cell_type": "code",
   "execution_count": 23,
   "id": "816a5f0d",
   "metadata": {
    "execution": {
     "iopub.execute_input": "2023-08-01T02:26:34.457708Z",
     "iopub.status.busy": "2023-08-01T02:26:34.457267Z",
     "iopub.status.idle": "2023-08-01T02:26:34.510403Z",
     "shell.execute_reply": "2023-08-01T02:26:34.509042Z"
    },
    "papermill": {
     "duration": 0.078647,
     "end_time": "2023-08-01T02:26:34.513049",
     "exception": false,
     "start_time": "2023-08-01T02:26:34.434402",
     "status": "completed"
    },
    "tags": []
   },
   "outputs": [
    {
     "data": {
      "text/html": [
       "<div>\n",
       "<style scoped>\n",
       "    .dataframe tbody tr th:only-of-type {\n",
       "        vertical-align: middle;\n",
       "    }\n",
       "\n",
       "    .dataframe tbody tr th {\n",
       "        vertical-align: top;\n",
       "    }\n",
       "\n",
       "    .dataframe thead th {\n",
       "        text-align: right;\n",
       "    }\n",
       "</style>\n",
       "<table border=\"1\" class=\"dataframe\">\n",
       "  <thead>\n",
       "    <tr style=\"text-align: right;\">\n",
       "      <th></th>\n",
       "      <th>TOPIC</th>\n",
       "      <th>Jumlah</th>\n",
       "    </tr>\n",
       "  </thead>\n",
       "  <tbody>\n",
       "    <tr>\n",
       "      <th>0</th>\n",
       "      <td>0</td>\n",
       "      <td>3536</td>\n",
       "    </tr>\n",
       "    <tr>\n",
       "      <th>1</th>\n",
       "      <td>8</td>\n",
       "      <td>701</td>\n",
       "    </tr>\n",
       "    <tr>\n",
       "      <th>2</th>\n",
       "      <td>6</td>\n",
       "      <td>312</td>\n",
       "    </tr>\n",
       "    <tr>\n",
       "      <th>3</th>\n",
       "      <td>18</td>\n",
       "      <td>279</td>\n",
       "    </tr>\n",
       "    <tr>\n",
       "      <th>4</th>\n",
       "      <td>2</td>\n",
       "      <td>208</td>\n",
       "    </tr>\n",
       "    <tr>\n",
       "      <th>5</th>\n",
       "      <td>10</td>\n",
       "      <td>207</td>\n",
       "    </tr>\n",
       "    <tr>\n",
       "      <th>6</th>\n",
       "      <td>20</td>\n",
       "      <td>198</td>\n",
       "    </tr>\n",
       "    <tr>\n",
       "      <th>7</th>\n",
       "      <td>11</td>\n",
       "      <td>176</td>\n",
       "    </tr>\n",
       "    <tr>\n",
       "      <th>8</th>\n",
       "      <td>22</td>\n",
       "      <td>165</td>\n",
       "    </tr>\n",
       "    <tr>\n",
       "      <th>9</th>\n",
       "      <td>27</td>\n",
       "      <td>161</td>\n",
       "    </tr>\n",
       "  </tbody>\n",
       "</table>\n",
       "</div>"
      ],
      "text/plain": [
       "   TOPIC  Jumlah\n",
       "0      0    3536\n",
       "1      8     701\n",
       "2      6     312\n",
       "3     18     279\n",
       "4      2     208\n",
       "5     10     207\n",
       "6     20     198\n",
       "7     11     176\n",
       "8     22     165\n",
       "9     27     161"
      ]
     },
     "execution_count": 23,
     "metadata": {},
     "output_type": "execute_result"
    }
   ],
   "source": [
    "topic_df = df_label_2[df_label_2['label'] == 'Tidak Selaras'][['TOPIC']]\n",
    "topic_df = topic_df.value_counts().to_frame().reset_index().rename(columns = {0:'Jumlah'})\n",
    "topic_df.head(10)"
   ]
  },
  {
   "cell_type": "code",
   "execution_count": 24,
   "id": "e09d7da8",
   "metadata": {
    "execution": {
     "iopub.execute_input": "2023-08-01T02:26:34.556435Z",
     "iopub.status.busy": "2023-08-01T02:26:34.555975Z",
     "iopub.status.idle": "2023-08-01T02:26:34.564718Z",
     "shell.execute_reply": "2023-08-01T02:26:34.563197Z"
    },
    "papermill": {
     "duration": 0.033687,
     "end_time": "2023-08-01T02:26:34.567497",
     "exception": false,
     "start_time": "2023-08-01T02:26:34.533810",
     "status": "completed"
    },
    "tags": []
   },
   "outputs": [],
   "source": [
    "# Jumlahkan data pada index 10 ke bawah\n",
    "sum_others = topic_df.iloc[10:]['Jumlah'].sum()\n",
    "\n",
    "# Ubah data pada index 10 ke bawah menjadi 'Topik lain' dan data jumlahnya menjadi sum_others\n",
    "topic_df.loc[10:] = ['Topik lain', sum_others]"
   ]
  },
  {
   "cell_type": "code",
   "execution_count": 25,
   "id": "3385c029",
   "metadata": {
    "execution": {
     "iopub.execute_input": "2023-08-01T02:26:34.611970Z",
     "iopub.status.busy": "2023-08-01T02:26:34.611571Z",
     "iopub.status.idle": "2023-08-01T02:26:34.617656Z",
     "shell.execute_reply": "2023-08-01T02:26:34.616345Z"
    },
    "papermill": {
     "duration": 0.031625,
     "end_time": "2023-08-01T02:26:34.620140",
     "exception": false,
     "start_time": "2023-08-01T02:26:34.588515",
     "status": "completed"
    },
    "tags": []
   },
   "outputs": [],
   "source": [
    "topic_df = topic_df.loc[:10]"
   ]
  },
  {
   "cell_type": "code",
   "execution_count": 26,
   "id": "d2c3064b",
   "metadata": {
    "execution": {
     "iopub.execute_input": "2023-08-01T02:26:34.663740Z",
     "iopub.status.busy": "2023-08-01T02:26:34.663350Z",
     "iopub.status.idle": "2023-08-01T02:26:34.676456Z",
     "shell.execute_reply": "2023-08-01T02:26:34.675074Z"
    },
    "papermill": {
     "duration": 0.038225,
     "end_time": "2023-08-01T02:26:34.679150",
     "exception": false,
     "start_time": "2023-08-01T02:26:34.640925",
     "status": "completed"
    },
    "tags": []
   },
   "outputs": [
    {
     "data": {
      "text/html": [
       "<div>\n",
       "<style scoped>\n",
       "    .dataframe tbody tr th:only-of-type {\n",
       "        vertical-align: middle;\n",
       "    }\n",
       "\n",
       "    .dataframe tbody tr th {\n",
       "        vertical-align: top;\n",
       "    }\n",
       "\n",
       "    .dataframe thead th {\n",
       "        text-align: right;\n",
       "    }\n",
       "</style>\n",
       "<table border=\"1\" class=\"dataframe\">\n",
       "  <thead>\n",
       "    <tr style=\"text-align: right;\">\n",
       "      <th></th>\n",
       "      <th>TOPIC</th>\n",
       "      <th>Jumlah</th>\n",
       "    </tr>\n",
       "  </thead>\n",
       "  <tbody>\n",
       "    <tr>\n",
       "      <th>0</th>\n",
       "      <td>Topik-0</td>\n",
       "      <td>3536</td>\n",
       "    </tr>\n",
       "    <tr>\n",
       "      <th>1</th>\n",
       "      <td>Topik-8</td>\n",
       "      <td>701</td>\n",
       "    </tr>\n",
       "    <tr>\n",
       "      <th>2</th>\n",
       "      <td>Topik-6</td>\n",
       "      <td>312</td>\n",
       "    </tr>\n",
       "    <tr>\n",
       "      <th>3</th>\n",
       "      <td>Topik-18</td>\n",
       "      <td>279</td>\n",
       "    </tr>\n",
       "    <tr>\n",
       "      <th>4</th>\n",
       "      <td>Topik-2</td>\n",
       "      <td>208</td>\n",
       "    </tr>\n",
       "    <tr>\n",
       "      <th>5</th>\n",
       "      <td>Topik-10</td>\n",
       "      <td>207</td>\n",
       "    </tr>\n",
       "    <tr>\n",
       "      <th>6</th>\n",
       "      <td>Topik-20</td>\n",
       "      <td>198</td>\n",
       "    </tr>\n",
       "    <tr>\n",
       "      <th>7</th>\n",
       "      <td>Topik-11</td>\n",
       "      <td>176</td>\n",
       "    </tr>\n",
       "    <tr>\n",
       "      <th>8</th>\n",
       "      <td>Topik-22</td>\n",
       "      <td>165</td>\n",
       "    </tr>\n",
       "    <tr>\n",
       "      <th>9</th>\n",
       "      <td>Topik-27</td>\n",
       "      <td>161</td>\n",
       "    </tr>\n",
       "    <tr>\n",
       "      <th>10</th>\n",
       "      <td>Topik-Topik lain</td>\n",
       "      <td>3002</td>\n",
       "    </tr>\n",
       "  </tbody>\n",
       "</table>\n",
       "</div>"
      ],
      "text/plain": [
       "               TOPIC  Jumlah\n",
       "0            Topik-0    3536\n",
       "1            Topik-8     701\n",
       "2            Topik-6     312\n",
       "3           Topik-18     279\n",
       "4            Topik-2     208\n",
       "5           Topik-10     207\n",
       "6           Topik-20     198\n",
       "7           Topik-11     176\n",
       "8           Topik-22     165\n",
       "9           Topik-27     161\n",
       "10  Topik-Topik lain    3002"
      ]
     },
     "execution_count": 26,
     "metadata": {},
     "output_type": "execute_result"
    }
   ],
   "source": [
    "topic_df['TOPIC'] = topic_df['TOPIC'].apply(lambda x:f\"Topik-{x}\")\n",
    "topic_df"
   ]
  },
  {
   "cell_type": "code",
   "execution_count": 27,
   "id": "3ca95a84",
   "metadata": {
    "execution": {
     "iopub.execute_input": "2023-08-01T02:26:34.724970Z",
     "iopub.status.busy": "2023-08-01T02:26:34.723896Z",
     "iopub.status.idle": "2023-08-01T02:26:34.730591Z",
     "shell.execute_reply": "2023-08-01T02:26:34.729010Z"
    },
    "papermill": {
     "duration": 0.032555,
     "end_time": "2023-08-01T02:26:34.733050",
     "exception": false,
     "start_time": "2023-08-01T02:26:34.700495",
     "status": "completed"
    },
    "tags": []
   },
   "outputs": [],
   "source": [
    "topic_df.loc[10,'TOPIC'] = 'Topik Lain'"
   ]
  },
  {
   "cell_type": "code",
   "execution_count": 28,
   "id": "10910e54",
   "metadata": {
    "execution": {
     "iopub.execute_input": "2023-08-01T02:26:34.778563Z",
     "iopub.status.busy": "2023-08-01T02:26:34.777902Z",
     "iopub.status.idle": "2023-08-01T02:26:34.790611Z",
     "shell.execute_reply": "2023-08-01T02:26:34.789197Z"
    },
    "papermill": {
     "duration": 0.039158,
     "end_time": "2023-08-01T02:26:34.793317",
     "exception": false,
     "start_time": "2023-08-01T02:26:34.754159",
     "status": "completed"
    },
    "tags": []
   },
   "outputs": [
    {
     "data": {
      "text/html": [
       "<div>\n",
       "<style scoped>\n",
       "    .dataframe tbody tr th:only-of-type {\n",
       "        vertical-align: middle;\n",
       "    }\n",
       "\n",
       "    .dataframe tbody tr th {\n",
       "        vertical-align: top;\n",
       "    }\n",
       "\n",
       "    .dataframe thead th {\n",
       "        text-align: right;\n",
       "    }\n",
       "</style>\n",
       "<table border=\"1\" class=\"dataframe\">\n",
       "  <thead>\n",
       "    <tr style=\"text-align: right;\">\n",
       "      <th></th>\n",
       "      <th>TOPIC</th>\n",
       "      <th>Jumlah</th>\n",
       "    </tr>\n",
       "  </thead>\n",
       "  <tbody>\n",
       "    <tr>\n",
       "      <th>0</th>\n",
       "      <td>Topik-0</td>\n",
       "      <td>3536</td>\n",
       "    </tr>\n",
       "    <tr>\n",
       "      <th>1</th>\n",
       "      <td>Topik-8</td>\n",
       "      <td>701</td>\n",
       "    </tr>\n",
       "    <tr>\n",
       "      <th>2</th>\n",
       "      <td>Topik-6</td>\n",
       "      <td>312</td>\n",
       "    </tr>\n",
       "    <tr>\n",
       "      <th>3</th>\n",
       "      <td>Topik-18</td>\n",
       "      <td>279</td>\n",
       "    </tr>\n",
       "    <tr>\n",
       "      <th>4</th>\n",
       "      <td>Topik-2</td>\n",
       "      <td>208</td>\n",
       "    </tr>\n",
       "    <tr>\n",
       "      <th>5</th>\n",
       "      <td>Topik-10</td>\n",
       "      <td>207</td>\n",
       "    </tr>\n",
       "    <tr>\n",
       "      <th>6</th>\n",
       "      <td>Topik-20</td>\n",
       "      <td>198</td>\n",
       "    </tr>\n",
       "    <tr>\n",
       "      <th>7</th>\n",
       "      <td>Topik-11</td>\n",
       "      <td>176</td>\n",
       "    </tr>\n",
       "    <tr>\n",
       "      <th>8</th>\n",
       "      <td>Topik-22</td>\n",
       "      <td>165</td>\n",
       "    </tr>\n",
       "    <tr>\n",
       "      <th>9</th>\n",
       "      <td>Topik-27</td>\n",
       "      <td>161</td>\n",
       "    </tr>\n",
       "    <tr>\n",
       "      <th>10</th>\n",
       "      <td>Topik Lain</td>\n",
       "      <td>3002</td>\n",
       "    </tr>\n",
       "  </tbody>\n",
       "</table>\n",
       "</div>"
      ],
      "text/plain": [
       "         TOPIC  Jumlah\n",
       "0      Topik-0    3536\n",
       "1      Topik-8     701\n",
       "2      Topik-6     312\n",
       "3     Topik-18     279\n",
       "4      Topik-2     208\n",
       "5     Topik-10     207\n",
       "6     Topik-20     198\n",
       "7     Topik-11     176\n",
       "8     Topik-22     165\n",
       "9     Topik-27     161\n",
       "10  Topik Lain    3002"
      ]
     },
     "execution_count": 28,
     "metadata": {},
     "output_type": "execute_result"
    }
   ],
   "source": [
    "topic_df"
   ]
  },
  {
   "cell_type": "code",
   "execution_count": 29,
   "id": "5d4a6eae",
   "metadata": {
    "execution": {
     "iopub.execute_input": "2023-08-01T02:26:34.838461Z",
     "iopub.status.busy": "2023-08-01T02:26:34.837971Z",
     "iopub.status.idle": "2023-08-01T02:26:35.129782Z",
     "shell.execute_reply": "2023-08-01T02:26:35.128295Z"
    },
    "papermill": {
     "duration": 0.32133,
     "end_time": "2023-08-01T02:26:35.135996",
     "exception": false,
     "start_time": "2023-08-01T02:26:34.814666",
     "status": "completed"
    },
    "tags": []
   },
   "outputs": [
    {
     "data": {
      "image/png": "[encoded data removed]",
      "text/plain": [
       "<Figure size 2000x1100 with 1 Axes>"
      ]
     },
     "metadata": {},
     "output_type": "display_data"
    }
   ],
   "source": [
    "# Plot the stacked bar chart\n",
    "plt.figure(figsize=(20, 11))\n",
    "\n",
    "# define Seaborn color palette to use\n",
    "palette_color = sns.color_palette('hls',8)\n",
    "  \n",
    "# plotting data on chart\n",
    "plt.pie(topic_df['Jumlah'], labels=topic_df['TOPIC'], colors=palette_color, autopct='%.0f%%')\n",
    "plt.title('Jumlah Ketidakselarasan berdasarkan Topik')  \n",
    "# displaying chart\n",
    "plt.show()"
   ]
  },
  {
   "cell_type": "code",
   "execution_count": null,
   "id": "c14d3674",
   "metadata": {
    "papermill": {
     "duration": 0.025134,
     "end_time": "2023-08-01T02:26:35.188927",
     "exception": false,
     "start_time": "2023-08-01T02:26:35.163793",
     "status": "completed"
    },
    "tags": []
   },
   "outputs": [],
   "source": []
  }
 ],
 "metadata": {
  "kernelspec": {
   "display_name": "Python 3",
   "language": "python",
   "name": "python3"
  },
  "language_info": {
   "codemirror_mode": {
    "name": "ipython",
    "version": 3
   },
   "file_extension": ".py",
   "mimetype": "text/x-python",
   "name": "python",
   "nbconvert_exporter": "python",
   "pygments_lexer": "ipython3",
   "version": "3.10.12"
  },
  "papermill": {
   "default_parameters": {},
   "duration": 25.775194,
   "end_time": "2023-08-01T02:26:36.237224",
   "environment_variables": {},
   "exception": null,
   "input_path": "__notebook__.ipynb",
   "output_path": "__notebook__.ipynb",
   "parameters": {},
   "start_time": "2023-08-01T02:26:10.462030",
   "version": "2.4.0"
  }
 },
 "nbformat": 4,
 "nbformat_minor": 5
}
