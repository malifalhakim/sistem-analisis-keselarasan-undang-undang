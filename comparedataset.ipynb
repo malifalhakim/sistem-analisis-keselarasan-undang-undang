{
 "cells": [
  {
   "cell_type": "markdown",
   "id": "29339fc3",
   "metadata": {
    "papermill": {
     "duration": 0.007296,
     "end_time": "2023-07-27T02:39:29.665920",
     "exception": false,
     "start_time": "2023-07-27T02:39:29.658624",
     "status": "completed"
    },
    "tags": []
   },
   "source": [
    "### Import Libraries"
   ]
  },
  {
   "cell_type": "code",
   "execution_count": 1,
   "id": "293643f6",
   "metadata": {
    "execution": {
     "iopub.execute_input": "2023-07-27T02:39:29.679637Z",
     "iopub.status.busy": "2023-07-27T02:39:29.679013Z",
     "iopub.status.idle": "2023-07-27T02:39:29.688954Z",
     "shell.execute_reply": "2023-07-27T02:39:29.687904Z"
    },
    "papermill": {
     "duration": 0.020047,
     "end_time": "2023-07-27T02:39:29.691330",
     "exception": false,
     "start_time": "2023-07-27T02:39:29.671283",
     "status": "completed"
    },
    "tags": []
   },
   "outputs": [],
   "source": [
    "import pandas as pd\n",
    "import itertools \n",
    "from tqdm import tqdm"
   ]
  },
  {
   "cell_type": "markdown",
   "id": "ccbbf646",
   "metadata": {
    "papermill": {
     "duration": 0.006347,
     "end_time": "2023-07-27T02:39:29.704682",
     "exception": false,
     "start_time": "2023-07-27T02:39:29.698335",
     "status": "completed"
    },
    "tags": []
   },
   "source": [
    "### Load Dataset"
   ]
  },
  {
   "cell_type": "code",
   "execution_count": 2,
   "id": "59f0b052",
   "metadata": {
    "execution": {
     "iopub.execute_input": "2023-07-27T02:39:29.716319Z",
     "iopub.status.busy": "2023-07-27T02:39:29.715493Z",
     "iopub.status.idle": "2023-07-27T02:39:29.813862Z",
     "shell.execute_reply": "2023-07-27T02:39:29.812739Z"
    },
    "papermill": {
     "duration": 0.107201,
     "end_time": "2023-07-27T02:39:29.816525",
     "exception": false,
     "start_time": "2023-07-27T02:39:29.709324",
     "status": "completed"
    },
    "tags": []
   },
   "outputs": [],
   "source": [
    "df = pd.read_csv('/kaggle/input/undang-undang-v2/keybert-tr-topic-final.csv')"
   ]
  },
  {
   "cell_type": "code",
   "execution_count": 3,
   "id": "012d9132",
   "metadata": {
    "execution": {
     "iopub.execute_input": "2023-07-27T02:39:29.827718Z",
     "iopub.status.busy": "2023-07-27T02:39:29.827334Z",
     "iopub.status.idle": "2023-07-27T02:39:29.846634Z",
     "shell.execute_reply": "2023-07-27T02:39:29.845907Z"
    },
    "papermill": {
     "duration": 0.02711,
     "end_time": "2023-07-27T02:39:29.848524",
     "exception": false,
     "start_time": "2023-07-27T02:39:29.821414",
     "status": "completed"
    },
    "tags": []
   },
   "outputs": [
    {
     "data": {
      "text/html": [
       "<div>\n",
       "<style scoped>\n",
       "    .dataframe tbody tr th:only-of-type {\n",
       "        vertical-align: middle;\n",
       "    }\n",
       "\n",
       "    .dataframe tbody tr th {\n",
       "        vertical-align: top;\n",
       "    }\n",
       "\n",
       "    .dataframe thead th {\n",
       "        text-align: right;\n",
       "    }\n",
       "</style>\n",
       "<table border=\"1\" class=\"dataframe\">\n",
       "  <thead>\n",
       "    <tr style=\"text-align: right;\">\n",
       "      <th></th>\n",
       "      <th>NAMA_DOKUMEN</th>\n",
       "      <th>NO_PASAL</th>\n",
       "      <th>NO_AYAT</th>\n",
       "      <th>BUNYI_AYAT</th>\n",
       "      <th>Topic</th>\n",
       "    </tr>\n",
       "  </thead>\n",
       "  <tbody>\n",
       "    <tr>\n",
       "      <th>0</th>\n",
       "      <td>KEPMEN_DAGRI_29_2002</td>\n",
       "      <td>1</td>\n",
       "      <td>1</td>\n",
       "      <td>Dalam Keputusan ini yang dimaksud dengan: a. K...</td>\n",
       "      <td>947</td>\n",
       "    </tr>\n",
       "    <tr>\n",
       "      <th>1</th>\n",
       "      <td>KEPMEN_DAGRI_29_2002</td>\n",
       "      <td>2</td>\n",
       "      <td>1</td>\n",
       "      <td>Struktur APBD merupakan satu kesatuan yang ter...</td>\n",
       "      <td>21</td>\n",
       "    </tr>\n",
       "    <tr>\n",
       "      <th>2</th>\n",
       "      <td>KEPMEN_DAGRI_29_2002</td>\n",
       "      <td>2</td>\n",
       "      <td>2</td>\n",
       "      <td>Pendapatan Daerah sebagaimana dimaksud pada Ayat</td>\n",
       "      <td>426</td>\n",
       "    </tr>\n",
       "    <tr>\n",
       "      <th>3</th>\n",
       "      <td>KEPMEN_DAGRI_29_2002</td>\n",
       "      <td>2</td>\n",
       "      <td>3</td>\n",
       "      <td>meliputi semua penerimaan yang merupakan hak D...</td>\n",
       "      <td>-1</td>\n",
       "    </tr>\n",
       "    <tr>\n",
       "      <th>4</th>\n",
       "      <td>KEPMEN_DAGRI_29_2002</td>\n",
       "      <td>2</td>\n",
       "      <td>4</td>\n",
       "      <td>Belanja Daerah sebagaimana dimaksud pada Ayat</td>\n",
       "      <td>518</td>\n",
       "    </tr>\n",
       "  </tbody>\n",
       "</table>\n",
       "</div>"
      ],
      "text/plain": [
       "           NAMA_DOKUMEN  NO_PASAL  NO_AYAT  \\\n",
       "0  KEPMEN_DAGRI_29_2002         1        1   \n",
       "1  KEPMEN_DAGRI_29_2002         2        1   \n",
       "2  KEPMEN_DAGRI_29_2002         2        2   \n",
       "3  KEPMEN_DAGRI_29_2002         2        3   \n",
       "4  KEPMEN_DAGRI_29_2002         2        4   \n",
       "\n",
       "                                          BUNYI_AYAT  Topic  \n",
       "0  Dalam Keputusan ini yang dimaksud dengan: a. K...    947  \n",
       "1  Struktur APBD merupakan satu kesatuan yang ter...     21  \n",
       "2   Pendapatan Daerah sebagaimana dimaksud pada Ayat    426  \n",
       "3  meliputi semua penerimaan yang merupakan hak D...     -1  \n",
       "4      Belanja Daerah sebagaimana dimaksud pada Ayat    518  "
      ]
     },
     "execution_count": 3,
     "metadata": {},
     "output_type": "execute_result"
    }
   ],
   "source": [
    "df.head()"
   ]
  },
  {
   "cell_type": "markdown",
   "id": "cf2042c2",
   "metadata": {
    "papermill": {
     "duration": 0.004487,
     "end_time": "2023-07-27T02:39:29.857804",
     "exception": false,
     "start_time": "2023-07-27T02:39:29.853317",
     "status": "completed"
    },
    "tags": []
   },
   "source": [
    "### Make Grouping Dataset"
   ]
  },
  {
   "cell_type": "code",
   "execution_count": 4,
   "id": "0fca00b5",
   "metadata": {
    "execution": {
     "iopub.execute_input": "2023-07-27T02:39:29.868901Z",
     "iopub.status.busy": "2023-07-27T02:39:29.868238Z",
     "iopub.status.idle": "2023-07-27T02:39:29.874318Z",
     "shell.execute_reply": "2023-07-27T02:39:29.873621Z"
    },
    "papermill": {
     "duration": 0.013931,
     "end_time": "2023-07-27T02:39:29.876315",
     "exception": false,
     "start_time": "2023-07-27T02:39:29.862384",
     "status": "completed"
    },
    "tags": []
   },
   "outputs": [],
   "source": [
    "NUMBER_OF_TOPICS = df['Topic'].max()"
   ]
  },
  {
   "cell_type": "code",
   "execution_count": 5,
   "id": "688a151a",
   "metadata": {
    "execution": {
     "iopub.execute_input": "2023-07-27T02:39:29.887311Z",
     "iopub.status.busy": "2023-07-27T02:39:29.886955Z",
     "iopub.status.idle": "2023-07-27T02:39:30.210445Z",
     "shell.execute_reply": "2023-07-27T02:39:30.209489Z"
    },
    "papermill": {
     "duration": 0.332053,
     "end_time": "2023-07-27T02:39:30.213095",
     "exception": false,
     "start_time": "2023-07-27T02:39:29.881042",
     "status": "completed"
    },
    "tags": []
   },
   "outputs": [],
   "source": [
    "list_of_dataframe = []\n",
    "for i in range(0,NUMBER_OF_TOPICS+1):\n",
    "    df_topic = df[df['Topic']==i]\n",
    "    list_of_dataframe.append(df_topic)"
   ]
  },
  {
   "cell_type": "markdown",
   "id": "7b266a0d",
   "metadata": {
    "papermill": {
     "duration": 0.004685,
     "end_time": "2023-07-27T02:39:30.222794",
     "exception": false,
     "start_time": "2023-07-27T02:39:30.218109",
     "status": "completed"
    },
    "tags": []
   },
   "source": [
    "### Make Compared Dataset"
   ]
  },
  {
   "cell_type": "code",
   "execution_count": 6,
   "id": "dc2ea5e9",
   "metadata": {
    "execution": {
     "iopub.execute_input": "2023-07-27T02:39:30.236967Z",
     "iopub.status.busy": "2023-07-27T02:39:30.235931Z",
     "iopub.status.idle": "2023-07-27T02:39:30.243963Z",
     "shell.execute_reply": "2023-07-27T02:39:30.243024Z"
    },
    "papermill": {
     "duration": 0.017882,
     "end_time": "2023-07-27T02:39:30.246180",
     "exception": false,
     "start_time": "2023-07-27T02:39:30.228298",
     "status": "completed"
    },
    "tags": []
   },
   "outputs": [],
   "source": [
    "def make_combination(df):\n",
    "    # Generate all possible combinations of rows\n",
    "    combinations = list(itertools.combinations(df.index, 2))\n",
    "    \n",
    "    # Create an empty list to store the comparison results\n",
    "    comparison_data = []\n",
    "    \n",
    "    # Iterate through each combination and perform the comparison\n",
    "    for index1, index2 in combinations:\n",
    "        row1 = df.loc[index1]\n",
    "        row2 = df.loc[index2]\n",
    "\n",
    "        # Append the comparison data to the list\n",
    "        comparison_data.append([\n",
    "            row1['NAMA_DOKUMEN'],\n",
    "            row1['NO_PASAL'],\n",
    "            row1['NO_AYAT'],\n",
    "            row1['BUNYI_AYAT'],\n",
    "            row2['NAMA_DOKUMEN'],\n",
    "            row2['NO_PASAL'],\n",
    "            row2['NO_AYAT'],\n",
    "            row2['BUNYI_AYAT'],\n",
    "            row1['Topic']\n",
    "        ])\n",
    "    \n",
    "    # Create the new DataFrame with nine columns\n",
    "    columns = [\n",
    "        'NAMA_DOKUMEN',\n",
    "        'NO_PASAL',\n",
    "        'NO_AYAT',\n",
    "        'BUNYI_AYAT',\n",
    "        'NAMA_DOKUMEN_LAIN',\n",
    "        'NO_PASAL_LAIN',\n",
    "        'NO_AYAT_LAIN',\n",
    "        'BUNYI_AYAT_LAIN',\n",
    "        'TOPIC'\n",
    "    ]\n",
    "    \n",
    "    comparison_df = pd.DataFrame(comparison_data, columns=columns)\n",
    "    return comparison_df\n"
   ]
  },
  {
   "cell_type": "code",
   "execution_count": 7,
   "id": "8294010c",
   "metadata": {
    "execution": {
     "iopub.execute_input": "2023-07-27T02:39:30.257309Z",
     "iopub.status.busy": "2023-07-27T02:39:30.256942Z",
     "iopub.status.idle": "2023-07-27T02:40:13.172174Z",
     "shell.execute_reply": "2023-07-27T02:40:13.171204Z"
    },
    "papermill": {
     "duration": 42.923623,
     "end_time": "2023-07-27T02:40:13.174599",
     "exception": false,
     "start_time": "2023-07-27T02:39:30.250976",
     "status": "completed"
    },
    "tags": []
   },
   "outputs": [
    {
     "name": "stderr",
     "output_type": "stream",
     "text": [
      "100%|██████████| 948/948 [00:42<00:00, 22.10it/s] \n"
     ]
    }
   ],
   "source": [
    "list_of_compare_dataset = []\n",
    "for df in tqdm(list_of_dataframe):\n",
    "    comparison_df = make_combination(df)\n",
    "    list_of_compare_dataset.append(comparison_df)"
   ]
  },
  {
   "cell_type": "code",
   "execution_count": 8,
   "id": "d4480f1e",
   "metadata": {
    "execution": {
     "iopub.execute_input": "2023-07-27T02:40:13.200109Z",
     "iopub.status.busy": "2023-07-27T02:40:13.199745Z",
     "iopub.status.idle": "2023-07-27T02:40:13.339749Z",
     "shell.execute_reply": "2023-07-27T02:40:13.338794Z"
    },
    "papermill": {
     "duration": 0.155393,
     "end_time": "2023-07-27T02:40:13.342186",
     "exception": false,
     "start_time": "2023-07-27T02:40:13.186793",
     "status": "completed"
    },
    "tags": []
   },
   "outputs": [
    {
     "data": {
      "text/html": [
       "<div>\n",
       "<style scoped>\n",
       "    .dataframe tbody tr th:only-of-type {\n",
       "        vertical-align: middle;\n",
       "    }\n",
       "\n",
       "    .dataframe tbody tr th {\n",
       "        vertical-align: top;\n",
       "    }\n",
       "\n",
       "    .dataframe thead th {\n",
       "        text-align: right;\n",
       "    }\n",
       "</style>\n",
       "<table border=\"1\" class=\"dataframe\">\n",
       "  <thead>\n",
       "    <tr style=\"text-align: right;\">\n",
       "      <th></th>\n",
       "      <th>NAMA_DOKUMEN</th>\n",
       "      <th>NO_PASAL</th>\n",
       "      <th>NO_AYAT</th>\n",
       "      <th>BUNYI_AYAT</th>\n",
       "      <th>NAMA_DOKUMEN_LAIN</th>\n",
       "      <th>NO_PASAL_LAIN</th>\n",
       "      <th>NO_AYAT_LAIN</th>\n",
       "      <th>BUNYI_AYAT_LAIN</th>\n",
       "      <th>TOPIC</th>\n",
       "    </tr>\n",
       "  </thead>\n",
       "  <tbody>\n",
       "    <tr>\n",
       "      <th>0</th>\n",
       "      <td>UU Nomor 4 Tahun 2009</td>\n",
       "      <td>1</td>\n",
       "      <td>1</td>\n",
       "      <td>Dalam Undang-Undang ini yang dimaksud dengan: ...</td>\n",
       "      <td>UU Nomor 4 Tahun 2009</td>\n",
       "      <td>3</td>\n",
       "      <td>1</td>\n",
       "      <td>Dalam rangka mendukung pembangunan nasional ya...</td>\n",
       "      <td>4</td>\n",
       "    </tr>\n",
       "    <tr>\n",
       "      <th>1</th>\n",
       "      <td>UU Nomor 4 Tahun 2009</td>\n",
       "      <td>1</td>\n",
       "      <td>1</td>\n",
       "      <td>Dalam Undang-Undang ini yang dimaksud dengan: ...</td>\n",
       "      <td>UU Nomor 4 Tahun 2009</td>\n",
       "      <td>4</td>\n",
       "      <td>1</td>\n",
       "      <td>Mineral dan batubara sebagai sumber daya alam ...</td>\n",
       "      <td>4</td>\n",
       "    </tr>\n",
       "    <tr>\n",
       "      <th>2</th>\n",
       "      <td>UU Nomor 4 Tahun 2009</td>\n",
       "      <td>1</td>\n",
       "      <td>1</td>\n",
       "      <td>Dalam Undang-Undang ini yang dimaksud dengan: ...</td>\n",
       "      <td>UU Nomor 4 Tahun 2009</td>\n",
       "      <td>4</td>\n",
       "      <td>2</td>\n",
       "      <td>Penguasaan mineral dan batubara oleh negara se...</td>\n",
       "      <td>4</td>\n",
       "    </tr>\n",
       "    <tr>\n",
       "      <th>3</th>\n",
       "      <td>UU Nomor 4 Tahun 2009</td>\n",
       "      <td>1</td>\n",
       "      <td>1</td>\n",
       "      <td>Dalam Undang-Undang ini yang dimaksud dengan: ...</td>\n",
       "      <td>UU Nomor 4 Tahun 2009</td>\n",
       "      <td>5</td>\n",
       "      <td>5</td>\n",
       "      <td>Ketentuan lebih lanjut mengenai pengutamaan mi...</td>\n",
       "      <td>4</td>\n",
       "    </tr>\n",
       "    <tr>\n",
       "      <th>4</th>\n",
       "      <td>UU Nomor 4 Tahun 2009</td>\n",
       "      <td>1</td>\n",
       "      <td>1</td>\n",
       "      <td>Dalam Undang-Undang ini yang dimaksud dengan: ...</td>\n",
       "      <td>UU Nomor 4 Tahun 2009</td>\n",
       "      <td>6</td>\n",
       "      <td>1</td>\n",
       "      <td>Kewenangan Pemerintah dalam pengelolaan pertam...</td>\n",
       "      <td>4</td>\n",
       "    </tr>\n",
       "  </tbody>\n",
       "</table>\n",
       "</div>"
      ],
      "text/plain": [
       "            NAMA_DOKUMEN  NO_PASAL  NO_AYAT  \\\n",
       "0  UU Nomor 4 Tahun 2009         1        1   \n",
       "1  UU Nomor 4 Tahun 2009         1        1   \n",
       "2  UU Nomor 4 Tahun 2009         1        1   \n",
       "3  UU Nomor 4 Tahun 2009         1        1   \n",
       "4  UU Nomor 4 Tahun 2009         1        1   \n",
       "\n",
       "                                          BUNYI_AYAT      NAMA_DOKUMEN_LAIN  \\\n",
       "0  Dalam Undang-Undang ini yang dimaksud dengan: ...  UU Nomor 4 Tahun 2009   \n",
       "1  Dalam Undang-Undang ini yang dimaksud dengan: ...  UU Nomor 4 Tahun 2009   \n",
       "2  Dalam Undang-Undang ini yang dimaksud dengan: ...  UU Nomor 4 Tahun 2009   \n",
       "3  Dalam Undang-Undang ini yang dimaksud dengan: ...  UU Nomor 4 Tahun 2009   \n",
       "4  Dalam Undang-Undang ini yang dimaksud dengan: ...  UU Nomor 4 Tahun 2009   \n",
       "\n",
       "   NO_PASAL_LAIN  NO_AYAT_LAIN  \\\n",
       "0              3             1   \n",
       "1              4             1   \n",
       "2              4             2   \n",
       "3              5             5   \n",
       "4              6             1   \n",
       "\n",
       "                                     BUNYI_AYAT_LAIN  TOPIC  \n",
       "0  Dalam rangka mendukung pembangunan nasional ya...      4  \n",
       "1  Mineral dan batubara sebagai sumber daya alam ...      4  \n",
       "2  Penguasaan mineral dan batubara oleh negara se...      4  \n",
       "3  Ketentuan lebih lanjut mengenai pengutamaan mi...      4  \n",
       "4  Kewenangan Pemerintah dalam pengelolaan pertam...      4  "
      ]
     },
     "execution_count": 8,
     "metadata": {},
     "output_type": "execute_result"
    }
   ],
   "source": [
    "list_of_compare_dataset[4].head()"
   ]
  },
  {
   "cell_type": "markdown",
   "id": "331eacc1",
   "metadata": {
    "papermill": {
     "duration": 0.011743,
     "end_time": "2023-07-27T02:40:13.366087",
     "exception": false,
     "start_time": "2023-07-27T02:40:13.354344",
     "status": "completed"
    },
    "tags": []
   },
   "source": [
    "### Merge Dataset"
   ]
  },
  {
   "cell_type": "code",
   "execution_count": 9,
   "id": "5eedda55",
   "metadata": {
    "execution": {
     "iopub.execute_input": "2023-07-27T02:40:13.391988Z",
     "iopub.status.busy": "2023-07-27T02:40:13.391620Z",
     "iopub.status.idle": "2023-07-27T02:40:13.661036Z",
     "shell.execute_reply": "2023-07-27T02:40:13.660013Z"
    },
    "papermill": {
     "duration": 0.285306,
     "end_time": "2023-07-27T02:40:13.663545",
     "exception": false,
     "start_time": "2023-07-27T02:40:13.378239",
     "status": "completed"
    },
    "tags": []
   },
   "outputs": [],
   "source": [
    "merged_dataset = pd.concat(list_of_compare_dataset)\n",
    "merged_dataset.reset_index(drop=True, inplace=True)"
   ]
  },
  {
   "cell_type": "code",
   "execution_count": 10,
   "id": "340a882f",
   "metadata": {
    "execution": {
     "iopub.execute_input": "2023-07-27T02:40:13.689859Z",
     "iopub.status.busy": "2023-07-27T02:40:13.689478Z",
     "iopub.status.idle": "2023-07-27T02:40:13.703790Z",
     "shell.execute_reply": "2023-07-27T02:40:13.703001Z"
    },
    "papermill": {
     "duration": 0.029765,
     "end_time": "2023-07-27T02:40:13.705582",
     "exception": false,
     "start_time": "2023-07-27T02:40:13.675817",
     "status": "completed"
    },
    "tags": []
   },
   "outputs": [
    {
     "name": "stdout",
     "output_type": "stream",
     "text": [
      "BANYAK BARIS DATA :  178845\n"
     ]
    },
    {
     "data": {
      "text/html": [
       "<div>\n",
       "<style scoped>\n",
       "    .dataframe tbody tr th:only-of-type {\n",
       "        vertical-align: middle;\n",
       "    }\n",
       "\n",
       "    .dataframe tbody tr th {\n",
       "        vertical-align: top;\n",
       "    }\n",
       "\n",
       "    .dataframe thead th {\n",
       "        text-align: right;\n",
       "    }\n",
       "</style>\n",
       "<table border=\"1\" class=\"dataframe\">\n",
       "  <thead>\n",
       "    <tr style=\"text-align: right;\">\n",
       "      <th></th>\n",
       "      <th>NAMA_DOKUMEN</th>\n",
       "      <th>NO_PASAL</th>\n",
       "      <th>NO_AYAT</th>\n",
       "      <th>BUNYI_AYAT</th>\n",
       "      <th>NAMA_DOKUMEN_LAIN</th>\n",
       "      <th>NO_PASAL_LAIN</th>\n",
       "      <th>NO_AYAT_LAIN</th>\n",
       "      <th>BUNYI_AYAT_LAIN</th>\n",
       "      <th>TOPIC</th>\n",
       "    </tr>\n",
       "  </thead>\n",
       "  <tbody>\n",
       "    <tr>\n",
       "      <th>0</th>\n",
       "      <td>Undang-Undang_No.21_Tahun_2008</td>\n",
       "      <td>60</td>\n",
       "      <td>1</td>\n",
       "      <td>Setiap orang yang dengan sengaja tanpa membawa...</td>\n",
       "      <td>Undang-Undang_No.21_Tahun_2008</td>\n",
       "      <td>60</td>\n",
       "      <td>2</td>\n",
       "      <td>Anggota direksi, komisaris, pegawai Bank Syari...</td>\n",
       "      <td>0</td>\n",
       "    </tr>\n",
       "    <tr>\n",
       "      <th>1</th>\n",
       "      <td>Undang-Undang_No.21_Tahun_2008</td>\n",
       "      <td>60</td>\n",
       "      <td>1</td>\n",
       "      <td>Setiap orang yang dengan sengaja tanpa membawa...</td>\n",
       "      <td>Undang-Undang_No.21_Tahun_2008</td>\n",
       "      <td>61</td>\n",
       "      <td>1</td>\n",
       "      <td>Anggota dewan komisaris, direksi, atau pegawai...</td>\n",
       "      <td>0</td>\n",
       "    </tr>\n",
       "    <tr>\n",
       "      <th>2</th>\n",
       "      <td>Undang-Undang_No.21_Tahun_2008</td>\n",
       "      <td>60</td>\n",
       "      <td>1</td>\n",
       "      <td>Setiap orang yang dengan sengaja tanpa membawa...</td>\n",
       "      <td>Undang-Undang_No.21_Tahun_2008</td>\n",
       "      <td>64</td>\n",
       "      <td>1</td>\n",
       "      <td>Pihak Terafiliasi yang dengan sengaja tidak me...</td>\n",
       "      <td>0</td>\n",
       "    </tr>\n",
       "    <tr>\n",
       "      <th>3</th>\n",
       "      <td>Undang-Undang_No.21_Tahun_2008</td>\n",
       "      <td>60</td>\n",
       "      <td>1</td>\n",
       "      <td>Setiap orang yang dengan sengaja tanpa membawa...</td>\n",
       "      <td>Undang-Undang_No.21_Tahun_2008</td>\n",
       "      <td>65</td>\n",
       "      <td>1</td>\n",
       "      <td>Pemegang saham yang dengan sengaja menyuruh an...</td>\n",
       "      <td>0</td>\n",
       "    </tr>\n",
       "    <tr>\n",
       "      <th>4</th>\n",
       "      <td>Undang-Undang_No.21_Tahun_2008</td>\n",
       "      <td>60</td>\n",
       "      <td>1</td>\n",
       "      <td>Setiap orang yang dengan sengaja tanpa membawa...</td>\n",
       "      <td>Undang-Undang_No.21_Tahun_2008</td>\n",
       "      <td>66</td>\n",
       "      <td>2</td>\n",
       "      <td>Anggota direksi dan pegawai Bank Syariah atau ...</td>\n",
       "      <td>0</td>\n",
       "    </tr>\n",
       "  </tbody>\n",
       "</table>\n",
       "</div>"
      ],
      "text/plain": [
       "                     NAMA_DOKUMEN  NO_PASAL  NO_AYAT  \\\n",
       "0  Undang-Undang_No.21_Tahun_2008        60        1   \n",
       "1  Undang-Undang_No.21_Tahun_2008        60        1   \n",
       "2  Undang-Undang_No.21_Tahun_2008        60        1   \n",
       "3  Undang-Undang_No.21_Tahun_2008        60        1   \n",
       "4  Undang-Undang_No.21_Tahun_2008        60        1   \n",
       "\n",
       "                                          BUNYI_AYAT  \\\n",
       "0  Setiap orang yang dengan sengaja tanpa membawa...   \n",
       "1  Setiap orang yang dengan sengaja tanpa membawa...   \n",
       "2  Setiap orang yang dengan sengaja tanpa membawa...   \n",
       "3  Setiap orang yang dengan sengaja tanpa membawa...   \n",
       "4  Setiap orang yang dengan sengaja tanpa membawa...   \n",
       "\n",
       "                NAMA_DOKUMEN_LAIN  NO_PASAL_LAIN  NO_AYAT_LAIN  \\\n",
       "0  Undang-Undang_No.21_Tahun_2008             60             2   \n",
       "1  Undang-Undang_No.21_Tahun_2008             61             1   \n",
       "2  Undang-Undang_No.21_Tahun_2008             64             1   \n",
       "3  Undang-Undang_No.21_Tahun_2008             65             1   \n",
       "4  Undang-Undang_No.21_Tahun_2008             66             2   \n",
       "\n",
       "                                     BUNYI_AYAT_LAIN  TOPIC  \n",
       "0  Anggota direksi, komisaris, pegawai Bank Syari...      0  \n",
       "1  Anggota dewan komisaris, direksi, atau pegawai...      0  \n",
       "2  Pihak Terafiliasi yang dengan sengaja tidak me...      0  \n",
       "3  Pemegang saham yang dengan sengaja menyuruh an...      0  \n",
       "4  Anggota direksi dan pegawai Bank Syariah atau ...      0  "
      ]
     },
     "execution_count": 10,
     "metadata": {},
     "output_type": "execute_result"
    }
   ],
   "source": [
    "print('BANYAK BARIS DATA : ',merged_dataset.shape[0])\n",
    "merged_dataset.head()"
   ]
  },
  {
   "cell_type": "markdown",
   "id": "7c58ee7e",
   "metadata": {
    "papermill": {
     "duration": 0.011872,
     "end_time": "2023-07-27T02:40:13.729941",
     "exception": false,
     "start_time": "2023-07-27T02:40:13.718069",
     "status": "completed"
    },
    "tags": []
   },
   "source": [
    "### Shuffle Dataset"
   ]
  },
  {
   "cell_type": "code",
   "execution_count": 11,
   "id": "cfbc9f95",
   "metadata": {
    "execution": {
     "iopub.execute_input": "2023-07-27T02:40:13.755931Z",
     "iopub.status.busy": "2023-07-27T02:40:13.755554Z",
     "iopub.status.idle": "2023-07-27T02:40:13.858438Z",
     "shell.execute_reply": "2023-07-27T02:40:13.857392Z"
    },
    "papermill": {
     "duration": 0.118603,
     "end_time": "2023-07-27T02:40:13.860832",
     "exception": false,
     "start_time": "2023-07-27T02:40:13.742229",
     "status": "completed"
    },
    "tags": []
   },
   "outputs": [],
   "source": [
    "shuffle_compared_dataset = merged_dataset.sample(frac = 1).reset_index(drop=True)"
   ]
  },
  {
   "cell_type": "code",
   "execution_count": 12,
   "id": "bb1c6f71",
   "metadata": {
    "execution": {
     "iopub.execute_input": "2023-07-27T02:40:13.887447Z",
     "iopub.status.busy": "2023-07-27T02:40:13.886737Z",
     "iopub.status.idle": "2023-07-27T02:40:13.901168Z",
     "shell.execute_reply": "2023-07-27T02:40:13.899960Z"
    },
    "papermill": {
     "duration": 0.030514,
     "end_time": "2023-07-27T02:40:13.903818",
     "exception": false,
     "start_time": "2023-07-27T02:40:13.873304",
     "status": "completed"
    },
    "tags": []
   },
   "outputs": [
    {
     "name": "stdout",
     "output_type": "stream",
     "text": [
      "BANYAK BARIS DATA : 178845\n"
     ]
    },
    {
     "data": {
      "text/html": [
       "<div>\n",
       "<style scoped>\n",
       "    .dataframe tbody tr th:only-of-type {\n",
       "        vertical-align: middle;\n",
       "    }\n",
       "\n",
       "    .dataframe tbody tr th {\n",
       "        vertical-align: top;\n",
       "    }\n",
       "\n",
       "    .dataframe thead th {\n",
       "        text-align: right;\n",
       "    }\n",
       "</style>\n",
       "<table border=\"1\" class=\"dataframe\">\n",
       "  <thead>\n",
       "    <tr style=\"text-align: right;\">\n",
       "      <th></th>\n",
       "      <th>NAMA_DOKUMEN</th>\n",
       "      <th>NO_PASAL</th>\n",
       "      <th>NO_AYAT</th>\n",
       "      <th>BUNYI_AYAT</th>\n",
       "      <th>NAMA_DOKUMEN_LAIN</th>\n",
       "      <th>NO_PASAL_LAIN</th>\n",
       "      <th>NO_AYAT_LAIN</th>\n",
       "      <th>BUNYI_AYAT_LAIN</th>\n",
       "      <th>TOPIC</th>\n",
       "    </tr>\n",
       "  </thead>\n",
       "  <tbody>\n",
       "    <tr>\n",
       "      <th>0</th>\n",
       "      <td>2022perpu002</td>\n",
       "      <td>51</td>\n",
       "      <td>15</td>\n",
       "      <td>Rencana fungsi dan pemanfaatan sebagaimana dim...</td>\n",
       "      <td>2022perpu002</td>\n",
       "      <td>51</td>\n",
       "      <td>26</td>\n",
       "      <td>Pemerintah Daerah menerbitkan sertifikat laik ...</td>\n",
       "      <td>15</td>\n",
       "    </tr>\n",
       "    <tr>\n",
       "      <th>1</th>\n",
       "      <td>Undang-Undang_No.8_Tahun_1995</td>\n",
       "      <td>105</td>\n",
       "      <td>1</td>\n",
       "      <td>Manajer Investasi dan atau Pihak terafiliasiny...</td>\n",
       "      <td>Undang-Undang_No.40_Tahun_2014</td>\n",
       "      <td>75</td>\n",
       "      <td>1</td>\n",
       "      <td>Setiap Orang yang dengan sengaja tidak memberi...</td>\n",
       "      <td>0</td>\n",
       "    </tr>\n",
       "    <tr>\n",
       "      <th>2</th>\n",
       "      <td>2022perpu002</td>\n",
       "      <td>175</td>\n",
       "      <td>17</td>\n",
       "      <td>Ketentuan mengenai jenis, bentuk, dan mekanism...</td>\n",
       "      <td>Perpu Nomor 1 Tahun 2020</td>\n",
       "      <td>5</td>\n",
       "      <td>3</td>\n",
       "      <td>Ketentuan lebih lanjut mengenai persyaratan te...</td>\n",
       "      <td>5</td>\n",
       "    </tr>\n",
       "    <tr>\n",
       "      <th>3</th>\n",
       "      <td>2022perpu002</td>\n",
       "      <td>17</td>\n",
       "      <td>105</td>\n",
       "      <td>Jika tindak pidana sebagaimana dimaksud pada a...</td>\n",
       "      <td>2022perpu002</td>\n",
       "      <td>46</td>\n",
       "      <td>97</td>\n",
       "      <td>Setiap Pelaku Usaha yang tidak menggunakan ata...</td>\n",
       "      <td>0</td>\n",
       "    </tr>\n",
       "    <tr>\n",
       "      <th>4</th>\n",
       "      <td>Undang-Undang_No.24_Tahun_2004</td>\n",
       "      <td>74</td>\n",
       "      <td>2</td>\n",
       "      <td>Dewan Komisioner membentuk komite audit, komit...</td>\n",
       "      <td>Keputusan_Presiden_No.32_Tahun_2016</td>\n",
       "      <td>1</td>\n",
       "      <td>1</td>\n",
       "      <td>Membentuk Gugus Tugas (Task Force) Dalam Rangk...</td>\n",
       "      <td>12</td>\n",
       "    </tr>\n",
       "  </tbody>\n",
       "</table>\n",
       "</div>"
      ],
      "text/plain": [
       "                     NAMA_DOKUMEN  NO_PASAL  NO_AYAT  \\\n",
       "0                    2022perpu002        51       15   \n",
       "1   Undang-Undang_No.8_Tahun_1995       105        1   \n",
       "2                    2022perpu002       175       17   \n",
       "3                    2022perpu002        17      105   \n",
       "4  Undang-Undang_No.24_Tahun_2004        74        2   \n",
       "\n",
       "                                          BUNYI_AYAT  \\\n",
       "0  Rencana fungsi dan pemanfaatan sebagaimana dim...   \n",
       "1  Manajer Investasi dan atau Pihak terafiliasiny...   \n",
       "2  Ketentuan mengenai jenis, bentuk, dan mekanism...   \n",
       "3  Jika tindak pidana sebagaimana dimaksud pada a...   \n",
       "4  Dewan Komisioner membentuk komite audit, komit...   \n",
       "\n",
       "                     NAMA_DOKUMEN_LAIN  NO_PASAL_LAIN  NO_AYAT_LAIN  \\\n",
       "0                         2022perpu002             51            26   \n",
       "1       Undang-Undang_No.40_Tahun_2014             75             1   \n",
       "2             Perpu Nomor 1 Tahun 2020              5             3   \n",
       "3                         2022perpu002             46            97   \n",
       "4  Keputusan_Presiden_No.32_Tahun_2016              1             1   \n",
       "\n",
       "                                     BUNYI_AYAT_LAIN  TOPIC  \n",
       "0  Pemerintah Daerah menerbitkan sertifikat laik ...     15  \n",
       "1  Setiap Orang yang dengan sengaja tidak memberi...      0  \n",
       "2  Ketentuan lebih lanjut mengenai persyaratan te...      5  \n",
       "3  Setiap Pelaku Usaha yang tidak menggunakan ata...      0  \n",
       "4  Membentuk Gugus Tugas (Task Force) Dalam Rangk...     12  "
      ]
     },
     "execution_count": 12,
     "metadata": {},
     "output_type": "execute_result"
    }
   ],
   "source": [
    "print('BANYAK BARIS DATA :',shuffle_compared_dataset.shape[0])\n",
    "shuffle_compared_dataset.head()"
   ]
  },
  {
   "cell_type": "markdown",
   "id": "d53b4ed3",
   "metadata": {
    "papermill": {
     "duration": 0.012063,
     "end_time": "2023-07-27T02:40:13.928933",
     "exception": false,
     "start_time": "2023-07-27T02:40:13.916870",
     "status": "completed"
    },
    "tags": []
   },
   "source": [
    "### Save Dataset"
   ]
  },
  {
   "cell_type": "code",
   "execution_count": 13,
   "id": "6bf89490",
   "metadata": {
    "execution": {
     "iopub.execute_input": "2023-07-27T02:40:13.955687Z",
     "iopub.status.busy": "2023-07-27T02:40:13.955159Z",
     "iopub.status.idle": "2023-07-27T02:40:17.476442Z",
     "shell.execute_reply": "2023-07-27T02:40:17.475379Z"
    },
    "papermill": {
     "duration": 3.537504,
     "end_time": "2023-07-27T02:40:17.478977",
     "exception": false,
     "start_time": "2023-07-27T02:40:13.941473",
     "status": "completed"
    },
    "tags": []
   },
   "outputs": [],
   "source": [
    "shuffle_compared_dataset.to_csv('final-dataset.csv', index=False)"
   ]
  }
 ],
 "metadata": {
  "kernelspec": {
   "display_name": "Python 3",
   "language": "python",
   "name": "python3"
  },
  "language_info": {
   "codemirror_mode": {
    "name": "ipython",
    "version": 3
   },
   "file_extension": ".py",
   "mimetype": "text/x-python",
   "name": "python",
   "nbconvert_exporter": "python",
   "pygments_lexer": "ipython3",
   "version": "3.10.12"
  },
  "papermill": {
   "default_parameters": {},
   "duration": 57.931118,
   "end_time": "2023-07-27T02:40:18.312954",
   "environment_variables": {},
   "exception": null,
   "input_path": "__notebook__.ipynb",
   "output_path": "__notebook__.ipynb",
   "parameters": {},
   "start_time": "2023-07-27T02:39:20.381836",
   "version": "2.4.0"
  }
 },
 "nbformat": 4,
 "nbformat_minor": 5
}
