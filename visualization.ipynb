{
 "cells": [
  {
   "cell_type": "code",
   "execution_count": 1,
   "id": "5bf43ea7",
   "metadata": {
    "execution": {
     "iopub.execute_input": "2023-07-30T15:29:30.155935Z",
     "iopub.status.busy": "2023-07-30T15:29:30.155160Z",
     "iopub.status.idle": "2023-07-30T15:29:31.783168Z",
     "shell.execute_reply": "2023-07-30T15:29:31.782263Z"
    },
    "papermill": {
     "duration": 1.636968,
     "end_time": "2023-07-30T15:29:31.785919",
     "exception": false,
     "start_time": "2023-07-30T15:29:30.148951",
     "status": "completed"
    },
    "tags": []
   },
   "outputs": [
    {
     "name": "stderr",
     "output_type": "stream",
     "text": [
      "/opt/conda/lib/python3.10/site-packages/scipy/__init__.py:146: UserWarning: A NumPy version >=1.16.5 and <1.23.0 is required for this version of SciPy (detected version 1.23.5\n",
      "  warnings.warn(f\"A NumPy version >={np_minversion} and <{np_maxversion}\"\n"
     ]
    }
   ],
   "source": [
    "import pandas as pd\n",
    "import seaborn as sns\n",
    "import matplotlib.pyplot as plt"
   ]
  },
  {
   "cell_type": "code",
   "execution_count": 2,
   "id": "5e5d6305",
   "metadata": {
    "execution": {
     "iopub.execute_input": "2023-07-30T15:29:31.795263Z",
     "iopub.status.busy": "2023-07-30T15:29:31.794451Z",
     "iopub.status.idle": "2023-07-30T15:29:31.924932Z",
     "shell.execute_reply": "2023-07-30T15:29:31.923968Z"
    },
    "papermill": {
     "duration": 0.137934,
     "end_time": "2023-07-30T15:29:31.927528",
     "exception": false,
     "start_time": "2023-07-30T15:29:31.789594",
     "status": "completed"
    },
    "tags": []
   },
   "outputs": [],
   "source": [
    "df = pd.read_csv('/kaggle/input/undang-undang-v2/keybert-tr-topic-final.csv')"
   ]
  },
  {
   "cell_type": "code",
   "execution_count": 3,
   "id": "9b2c8c55",
   "metadata": {
    "execution": {
     "iopub.execute_input": "2023-07-30T15:29:31.936502Z",
     "iopub.status.busy": "2023-07-30T15:29:31.935766Z",
     "iopub.status.idle": "2023-07-30T15:29:31.962475Z",
     "shell.execute_reply": "2023-07-30T15:29:31.961070Z"
    },
    "papermill": {
     "duration": 0.034308,
     "end_time": "2023-07-30T15:29:31.965297",
     "exception": false,
     "start_time": "2023-07-30T15:29:31.930989",
     "status": "completed"
    },
    "tags": []
   },
   "outputs": [
    {
     "data": {
      "text/html": [
       "<div>\n",
       "<style scoped>\n",
       "    .dataframe tbody tr th:only-of-type {\n",
       "        vertical-align: middle;\n",
       "    }\n",
       "\n",
       "    .dataframe tbody tr th {\n",
       "        vertical-align: top;\n",
       "    }\n",
       "\n",
       "    .dataframe thead th {\n",
       "        text-align: right;\n",
       "    }\n",
       "</style>\n",
       "<table border=\"1\" class=\"dataframe\">\n",
       "  <thead>\n",
       "    <tr style=\"text-align: right;\">\n",
       "      <th></th>\n",
       "      <th>NAMA_DOKUMEN</th>\n",
       "      <th>NO_PASAL</th>\n",
       "      <th>NO_AYAT</th>\n",
       "      <th>BUNYI_AYAT</th>\n",
       "      <th>Topic</th>\n",
       "    </tr>\n",
       "  </thead>\n",
       "  <tbody>\n",
       "    <tr>\n",
       "      <th>0</th>\n",
       "      <td>KEPMEN_DAGRI_29_2002</td>\n",
       "      <td>1</td>\n",
       "      <td>1</td>\n",
       "      <td>Dalam Keputusan ini yang dimaksud dengan: a. K...</td>\n",
       "      <td>947</td>\n",
       "    </tr>\n",
       "    <tr>\n",
       "      <th>1</th>\n",
       "      <td>KEPMEN_DAGRI_29_2002</td>\n",
       "      <td>2</td>\n",
       "      <td>1</td>\n",
       "      <td>Struktur APBD merupakan satu kesatuan yang ter...</td>\n",
       "      <td>21</td>\n",
       "    </tr>\n",
       "    <tr>\n",
       "      <th>2</th>\n",
       "      <td>KEPMEN_DAGRI_29_2002</td>\n",
       "      <td>2</td>\n",
       "      <td>2</td>\n",
       "      <td>Pendapatan Daerah sebagaimana dimaksud pada Ayat</td>\n",
       "      <td>426</td>\n",
       "    </tr>\n",
       "    <tr>\n",
       "      <th>3</th>\n",
       "      <td>KEPMEN_DAGRI_29_2002</td>\n",
       "      <td>2</td>\n",
       "      <td>3</td>\n",
       "      <td>meliputi semua penerimaan yang merupakan hak D...</td>\n",
       "      <td>-1</td>\n",
       "    </tr>\n",
       "    <tr>\n",
       "      <th>4</th>\n",
       "      <td>KEPMEN_DAGRI_29_2002</td>\n",
       "      <td>2</td>\n",
       "      <td>4</td>\n",
       "      <td>Belanja Daerah sebagaimana dimaksud pada Ayat</td>\n",
       "      <td>518</td>\n",
       "    </tr>\n",
       "  </tbody>\n",
       "</table>\n",
       "</div>"
      ],
      "text/plain": [
       "           NAMA_DOKUMEN  NO_PASAL  NO_AYAT  \\\n",
       "0  KEPMEN_DAGRI_29_2002         1        1   \n",
       "1  KEPMEN_DAGRI_29_2002         2        1   \n",
       "2  KEPMEN_DAGRI_29_2002         2        2   \n",
       "3  KEPMEN_DAGRI_29_2002         2        3   \n",
       "4  KEPMEN_DAGRI_29_2002         2        4   \n",
       "\n",
       "                                          BUNYI_AYAT  Topic  \n",
       "0  Dalam Keputusan ini yang dimaksud dengan: a. K...    947  \n",
       "1  Struktur APBD merupakan satu kesatuan yang ter...     21  \n",
       "2   Pendapatan Daerah sebagaimana dimaksud pada Ayat    426  \n",
       "3  meliputi semua penerimaan yang merupakan hak D...     -1  \n",
       "4      Belanja Daerah sebagaimana dimaksud pada Ayat    518  "
      ]
     },
     "execution_count": 3,
     "metadata": {},
     "output_type": "execute_result"
    }
   ],
   "source": [
    "df.head()"
   ]
  },
  {
   "cell_type": "code",
   "execution_count": 4,
   "id": "9feeb163",
   "metadata": {
    "execution": {
     "iopub.execute_input": "2023-07-30T15:29:31.974716Z",
     "iopub.status.busy": "2023-07-30T15:29:31.974301Z",
     "iopub.status.idle": "2023-07-30T15:29:31.985056Z",
     "shell.execute_reply": "2023-07-30T15:29:31.983908Z"
    },
    "papermill": {
     "duration": 0.018275,
     "end_time": "2023-07-30T15:29:31.987431",
     "exception": false,
     "start_time": "2023-07-30T15:29:31.969156",
     "status": "completed"
    },
    "tags": []
   },
   "outputs": [],
   "source": [
    "# Menghitung frekuensi setiap kategori\n",
    "kategori_counts = df['Topic'].value_counts()"
   ]
  },
  {
   "cell_type": "code",
   "execution_count": 5,
   "id": "b8070f35",
   "metadata": {
    "execution": {
     "iopub.execute_input": "2023-07-30T15:29:31.997640Z",
     "iopub.status.busy": "2023-07-30T15:29:31.996408Z",
     "iopub.status.idle": "2023-07-30T15:29:32.013385Z",
     "shell.execute_reply": "2023-07-30T15:29:32.012205Z"
    },
    "papermill": {
     "duration": 0.024976,
     "end_time": "2023-07-30T15:29:32.016350",
     "exception": false,
     "start_time": "2023-07-30T15:29:31.991374",
     "status": "completed"
    },
    "tags": []
   },
   "outputs": [],
   "source": [
    "# Memilih 30 kategori dengan frekuensi terbanyak\n",
    "top_30_kategori = kategori_counts.nlargest(30)"
   ]
  },
  {
   "cell_type": "code",
   "execution_count": 6,
   "id": "806b6ce0",
   "metadata": {
    "execution": {
     "iopub.execute_input": "2023-07-30T15:29:32.025748Z",
     "iopub.status.busy": "2023-07-30T15:29:32.025323Z",
     "iopub.status.idle": "2023-07-30T15:29:32.729098Z",
     "shell.execute_reply": "2023-07-30T15:29:32.727992Z"
    },
    "papermill": {
     "duration": 0.711382,
     "end_time": "2023-07-30T15:29:32.731697",
     "exception": false,
     "start_time": "2023-07-30T15:29:32.020315",
     "status": "completed"
    },
    "tags": []
   },
   "outputs": [
    {
     "data": {
      "image/png": "[encoded data removed]",
      "text/plain": [
       "<Figure size 1200x600 with 1 Axes>"
      ]
     },
     "metadata": {},
     "output_type": "display_data"
    }
   ],
   "source": [
    "# Visualisasi dengan countplot menggunakan Seaborn\n",
    "plt.figure(figsize=(12, 6))\n",
    "ax = sns.countplot(data=df[df['Topic'].isin(top_30_kategori.index)], y='Topic', order=top_30_kategori.index)\n",
    "plt.title('30 Kategori Terbanyak')\n",
    "plt.xlabel('Frekuensi')\n",
    "plt.ylabel('Kategori Topik')\n",
    "plt.xticks(rotation=45)\n",
    "\n",
    "\n",
    "# Menambahkan jumlah frekuensi di samping setiap bar\n",
    "for p in ax.patches:\n",
    "    ax.annotate(f'{int(p.get_width())}', (p.get_width(), p.get_y() + p.get_height() / 2.),\n",
    "                ha='left', va='center', fontsize=8, color='black', xytext=(5, 0),\n",
    "                textcoords='offset points')\n",
    "\n",
    "plt.show()"
   ]
  },
  {
   "cell_type": "code",
   "execution_count": null,
   "id": "a012394a",
   "metadata": {
    "papermill": {
     "duration": 0.004139,
     "end_time": "2023-07-30T15:29:32.740499",
     "exception": false,
     "start_time": "2023-07-30T15:29:32.736360",
     "status": "completed"
    },
    "tags": []
   },
   "outputs": [],
   "source": []
  }
 ],
 "metadata": {
  "kernelspec": {
   "display_name": "Python 3",
   "language": "python",
   "name": "python3"
  },
  "language_info": {
   "codemirror_mode": {
    "name": "ipython",
    "version": 3
   },
   "file_extension": ".py",
   "mimetype": "text/x-python",
   "name": "python",
   "nbconvert_exporter": "python",
   "pygments_lexer": "ipython3",
   "version": "3.10.12"
  },
  "papermill": {
   "default_parameters": {},
   "duration": 15.21712,
   "end_time": "2023-07-30T15:29:33.769653",
   "environment_variables": {},
   "exception": null,
   "input_path": "__notebook__.ipynb",
   "output_path": "__notebook__.ipynb",
   "parameters": {},
   "start_time": "2023-07-30T15:29:18.552533",
   "version": "2.4.0"
  }
 },
 "nbformat": 4,
 "nbformat_minor": 5
}
